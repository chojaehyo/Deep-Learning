{
 "cells": [
  {
   "cell_type": "markdown",
   "id": "641af1ba",
   "metadata": {},
   "source": [
    "## MINST Dataset 신경망 훈련"
   ]
  },
  {
   "cell_type": "markdown",
   "id": "888ac5bd",
   "metadata": {},
   "source": [
    "* import"
   ]
  },
  {
   "cell_type": "code",
   "execution_count": 1,
   "id": "3f040a38",
   "metadata": {},
   "outputs": [],
   "source": [
    "import tensorflow as tf\n",
    "from tensorflow.keras.datasets import mnist\n",
    "import matplotlib.pyplot as plt\n",
    "import numpy as np"
   ]
  },
  {
   "cell_type": "code",
   "execution_count": 2,
   "id": "27176434",
   "metadata": {
    "scrolled": false
   },
   "outputs": [
    {
     "data": {
      "text/plain": [
       "'2.3.0'"
      ]
     },
     "execution_count": 2,
     "metadata": {},
     "output_type": "execute_result"
    }
   ],
   "source": [
    "tf.__version__"
   ]
  },
  {
   "cell_type": "markdown",
   "id": "b5dcb35f",
   "metadata": {},
   "source": [
    "* 데이터 적재"
   ]
  },
  {
   "cell_type": "code",
   "execution_count": 3,
   "id": "b6dbafc0",
   "metadata": {},
   "outputs": [],
   "source": [
    "(train_images, train_labels), (test_images, test_labels) = mnist.load_data()"
   ]
  },
  {
   "cell_type": "code",
   "execution_count": 4,
   "id": "cef9e931",
   "metadata": {},
   "outputs": [
    {
     "data": {
      "text/plain": [
       "((60000, 28, 28), (60000,), (10000, 28, 28), (10000,))"
      ]
     },
     "execution_count": 4,
     "metadata": {},
     "output_type": "execute_result"
    }
   ],
   "source": [
    "train_images.shape, train_labels.shape, test_images.shape, test_labels.shape"
   ]
  },
  {
   "cell_type": "markdown",
   "id": "11a4ff84",
   "metadata": {},
   "source": [
    "* 데이터 시각화"
   ]
  },
  {
   "cell_type": "code",
   "execution_count": 5,
   "id": "530253de",
   "metadata": {
    "scrolled": true
   },
   "outputs": [
    {
     "data": {
      "text/plain": [
       "<matplotlib.image.AxesImage at 0x14eda8bef70>"
      ]
     },
     "execution_count": 5,
     "metadata": {},
     "output_type": "execute_result"
    },
    {
     "data": {
      "image/png": "[encoded data removed]",
      "text/plain": [
       "<Figure size 432x288 with 1 Axes>"
      ]
     },
     "metadata": {
      "needs_background": "light"
     },
     "output_type": "display_data"
    }
   ],
   "source": [
    "plt.imshow(train_images[0], cmap='gray')"
   ]
  },
  {
   "cell_type": "code",
   "execution_count": 6,
   "id": "fa140099",
   "metadata": {},
   "outputs": [
    {
     "data": {
      "image/png": "[encoded data removed]",
      "text/plain": [
       "<Figure size 1584x432 with 8 Axes>"
      ]
     },
     "metadata": {
      "needs_background": "light"
     },
     "output_type": "display_data"
    }
   ],
   "source": [
    "figure, axes = plt.subplots(figsize=(22, 6), nrows=1, ncols=8)\n",
    "for i in range(8):\n",
    "    axes[i].imshow(train_images[i], cmap='gray')"
   ]
  },
  {
   "cell_type": "markdown",
   "id": "686a0d8d",
   "metadata": {},
   "source": [
    "* 데이터 전처리"
   ]
  },
  {
   "cell_type": "code",
   "execution_count": 7,
   "id": "282c66d7",
   "metadata": {},
   "outputs": [],
   "source": [
    "train_images = np.array(train_images/255.0, dtype=np.float32)\n",
    "train_labels = np.array(train_labels, dtype=np.float32)"
   ]
  },
  {
   "cell_type": "code",
   "execution_count": 8,
   "id": "9c7fe7e7",
   "metadata": {},
   "outputs": [],
   "source": [
    "test_images = np.array(test_images/255.0, dtype=np.float32)\n",
    "test_labels = np.array(test_labels, dtype=np.float32)"
   ]
  },
  {
   "cell_type": "markdown",
   "id": "d3b16b0d",
   "metadata": {},
   "source": [
    "* 모델 생성"
   ]
  },
  {
   "cell_type": "code",
   "execution_count": 9,
   "id": "12cac35c",
   "metadata": {},
   "outputs": [],
   "source": [
    "from tensorflow.keras.layers import Dense, Flatten\n",
    "from tensorflow.keras.models import Sequential"
   ]
  },
  {
   "cell_type": "code",
   "execution_count": 10,
   "id": "421fed93",
   "metadata": {},
   "outputs": [
    {
     "name": "stdout",
     "output_type": "stream",
     "text": [
      "Model: \"sequential\"\n",
      "_________________________________________________________________\n",
      "Layer (type)                 Output Shape              Param #   \n",
      "=================================================================\n",
      "flatten (Flatten)            (None, 784)               0         \n",
      "_________________________________________________________________\n",
      "dense (Dense)                (None, 50)                39250     \n",
      "_________________________________________________________________\n",
      "dense_1 (Dense)              (None, 10)                510       \n",
      "=================================================================\n",
      "Total params: 39,760\n",
      "Trainable params: 39,760\n",
      "Non-trainable params: 0\n",
      "_________________________________________________________________\n"
     ]
    }
   ],
   "source": [
    "model = Sequential([\n",
    "    Flatten(input_shape=(28, 28)),\n",
    "    Dense(50, activation='sigmoid'),\n",
    "    Dense(10, activation='softmax')\n",
    "])\n",
    "\n",
    "model.summary()"
   ]
  },
  {
   "cell_type": "code",
   "execution_count": 11,
   "id": "32825b14",
   "metadata": {},
   "outputs": [
    {
     "name": "stdout",
     "output_type": "stream",
     "text": [
      "Model: \"sequential_1\"\n",
      "_________________________________________________________________\n",
      "Layer (type)                 Output Shape              Param #   \n",
      "=================================================================\n",
      "flatten_1 (Flatten)          (None, 784)               0         \n",
      "_________________________________________________________________\n",
      "dense_2 (Dense)              (None, 50)                39250     \n",
      "_________________________________________________________________\n",
      "dense_3 (Dense)              (None, 10)                510       \n",
      "=================================================================\n",
      "Total params: 39,760\n",
      "Trainable params: 39,760\n",
      "Non-trainable params: 0\n",
      "_________________________________________________________________\n"
     ]
    }
   ],
   "source": [
    "model1 = Sequential()\n",
    "\n",
    "model1.add(Flatten(input_shape=(28, 28)))\n",
    "model1.add(Dense(50, activation='sigmoid'))\n",
    "model1.add(Dense(10, activation='softmax'))\n",
    "\n",
    "model1.summary()"
   ]
  },
  {
   "cell_type": "markdown",
   "id": "9ead495b",
   "metadata": {},
   "source": [
    "* 모델의 손실함수와 최적화 함수 설정, 학습 수행"
   ]
  },
  {
   "cell_type": "markdown",
   "id": "7e9e063e",
   "metadata": {},
   "source": [
    "* sparse_categorical_crossentropy : label이 integer일 때 사용하는 다중분류 손실함수\n",
    "* categorical_crossentropy : label이 one-hot encoding일 때 사용하는 다중분류 손실함수"
   ]
  },
  {
   "cell_type": "code",
   "execution_count": 12,
   "id": "dcbf967c",
   "metadata": {},
   "outputs": [],
   "source": [
    "from tensorflow.keras.optimizers import SGD\n",
    "from tensorflow.keras.losses import CategoricalCrossentropy\n",
    "from tensorflow.keras.metrics import Accuracy"
   ]
  },
  {
   "cell_type": "code",
   "execution_count": 13,
   "id": "174e7779",
   "metadata": {},
   "outputs": [],
   "source": [
    "model.compile(optimizer=SGD(0.1), loss='categorical_crossentropy', metrics=['accuracy'])"
   ]
  },
  {
   "cell_type": "code",
   "execution_count": 14,
   "id": "33111a52",
   "metadata": {},
   "outputs": [
    {
     "data": {
      "text/plain": [
       "array([5., 0., 4., ..., 5., 6., 8.], dtype=float32)"
      ]
     },
     "execution_count": 14,
     "metadata": {},
     "output_type": "execute_result"
    }
   ],
   "source": [
    "train_labels"
   ]
  },
  {
   "cell_type": "code",
   "execution_count": 15,
   "id": "6cbef267",
   "metadata": {},
   "outputs": [],
   "source": [
    "from tensorflow.keras.utils import to_categorical"
   ]
  },
  {
   "cell_type": "code",
   "execution_count": 16,
   "id": "965d6a67",
   "metadata": {},
   "outputs": [],
   "source": [
    "train_oh_labels = to_categorical(train_labels)\n",
    "test_oh_labels = to_categorical(test_labels)"
   ]
  },
  {
   "cell_type": "code",
   "execution_count": 17,
   "id": "5af9ae8b",
   "metadata": {},
   "outputs": [
    {
     "data": {
      "text/plain": [
       "((60000, 10), array([0., 0., 0., 0., 0., 1., 0., 0., 0., 0.], dtype=float32))"
      ]
     },
     "execution_count": 17,
     "metadata": {},
     "output_type": "execute_result"
    }
   ],
   "source": [
    "train_oh_labels.shape, train_oh_labels[0]"
   ]
  },
  {
   "cell_type": "code",
   "execution_count": 18,
   "id": "1f2cc140",
   "metadata": {},
   "outputs": [
    {
     "name": "stdout",
     "output_type": "stream",
     "text": [
      "Epoch 1/17\n",
      "480/480 [==============================] - 1s 2ms/step - loss: 1.0673 - accuracy: 0.7705 - val_loss: 0.5386 - val_accuracy: 0.8784\n",
      "Epoch 2/17\n",
      "480/480 [==============================] - 1s 2ms/step - loss: 0.4759 - accuracy: 0.8809 - val_loss: 0.3863 - val_accuracy: 0.8986\n",
      "Epoch 3/17\n",
      "480/480 [==============================] - 1s 2ms/step - loss: 0.3818 - accuracy: 0.8964 - val_loss: 0.3365 - val_accuracy: 0.9063\n",
      "Epoch 4/17\n",
      "480/480 [==============================] - 1s 3ms/step - loss: 0.3403 - accuracy: 0.9045 - val_loss: 0.3059 - val_accuracy: 0.9147\n",
      "Epoch 5/17\n",
      "480/480 [==============================] - 1s 2ms/step - loss: 0.3141 - accuracy: 0.9108 - val_loss: 0.2870 - val_accuracy: 0.9194\n",
      "Epoch 6/17\n",
      "480/480 [==============================] - 1s 3ms/step - loss: 0.2948 - accuracy: 0.9163 - val_loss: 0.2716 - val_accuracy: 0.9231\n",
      "Epoch 7/17\n",
      "480/480 [==============================] - 1s 3ms/step - loss: 0.2789 - accuracy: 0.9205 - val_loss: 0.2615 - val_accuracy: 0.9258\n",
      "Epoch 8/17\n",
      "480/480 [==============================] - 1s 3ms/step - loss: 0.2657 - accuracy: 0.9236 - val_loss: 0.2489 - val_accuracy: 0.9287\n",
      "Epoch 9/17\n",
      "480/480 [==============================] - 1s 2ms/step - loss: 0.2542 - accuracy: 0.9268 - val_loss: 0.2400 - val_accuracy: 0.9311\n",
      "Epoch 10/17\n",
      "480/480 [==============================] - 1s 2ms/step - loss: 0.2439 - accuracy: 0.9297 - val_loss: 0.2322 - val_accuracy: 0.9322\n",
      "Epoch 11/17\n",
      "480/480 [==============================] - 1s 2ms/step - loss: 0.2346 - accuracy: 0.9325 - val_loss: 0.2245 - val_accuracy: 0.9348\n",
      "Epoch 12/17\n",
      "480/480 [==============================] - 1s 2ms/step - loss: 0.2262 - accuracy: 0.9345 - val_loss: 0.2181 - val_accuracy: 0.9380\n",
      "Epoch 13/17\n",
      "480/480 [==============================] - 1s 2ms/step - loss: 0.2185 - accuracy: 0.9370 - val_loss: 0.2125 - val_accuracy: 0.9392\n",
      "Epoch 14/17\n",
      "480/480 [==============================] - 1s 2ms/step - loss: 0.2115 - accuracy: 0.9390 - val_loss: 0.2074 - val_accuracy: 0.9423\n",
      "Epoch 15/17\n",
      "480/480 [==============================] - 1s 2ms/step - loss: 0.2051 - accuracy: 0.9402 - val_loss: 0.2022 - val_accuracy: 0.9436\n",
      "Epoch 16/17\n",
      "480/480 [==============================] - 1s 2ms/step - loss: 0.1990 - accuracy: 0.9425 - val_loss: 0.1971 - val_accuracy: 0.9457\n",
      "Epoch 17/17\n",
      "480/480 [==============================] - 1s 3ms/step - loss: 0.1933 - accuracy: 0.9442 - val_loss: 0.1931 - val_accuracy: 0.9471\n"
     ]
    }
   ],
   "source": [
    "history = model.fit(x=train_images, y=train_oh_labels, validation_split=0.2, batch_size=100, epochs=17, verbose=1)"
   ]
  },
  {
   "cell_type": "code",
   "execution_count": 19,
   "id": "1526d771",
   "metadata": {},
   "outputs": [
    {
     "data": {
      "text/plain": [
       "[1.0672558546066284,\n",
       " 0.47588956356048584,\n",
       " 0.38177037239074707,\n",
       " 0.34030818939208984,\n",
       " 0.3141346871852875,\n",
       " 0.29480066895484924,\n",
       " 0.2789399027824402,\n",
       " 0.26570388674736023,\n",
       " 0.25417235493659973,\n",
       " 0.24388441443443298,\n",
       " 0.23463980853557587,\n",
       " 0.22624658048152924,\n",
       " 0.21849456429481506,\n",
       " 0.2114695906639099,\n",
       " 0.20512107014656067,\n",
       " 0.19903691112995148,\n",
       " 0.19325892627239227]"
      ]
     },
     "execution_count": 19,
     "metadata": {},
     "output_type": "execute_result"
    }
   ],
   "source": [
    "history.history['loss']"
   ]
  },
  {
   "cell_type": "code",
   "execution_count": 20,
   "id": "79b83848",
   "metadata": {},
   "outputs": [
    {
     "data": {
      "text/plain": [
       "[0.7705416679382324,\n",
       " 0.8809375166893005,\n",
       " 0.8963958621025085,\n",
       " 0.9044791460037231,\n",
       " 0.910812497138977,\n",
       " 0.9163333177566528,\n",
       " 0.9204791784286499,\n",
       " 0.9235625267028809,\n",
       " 0.926770806312561,\n",
       " 0.9296875,\n",
       " 0.9324791431427002,\n",
       " 0.934499979019165,\n",
       " 0.9370416402816772,\n",
       " 0.9390208125114441,\n",
       " 0.9402499794960022,\n",
       " 0.9425208568572998,\n",
       " 0.9442291855812073]"
      ]
     },
     "execution_count": 20,
     "metadata": {},
     "output_type": "execute_result"
    }
   ],
   "source": [
    "history.history['accuracy']"
   ]
  },
  {
   "cell_type": "markdown",
   "id": "3a3a775c",
   "metadata": {},
   "source": [
    "* 시험 데이터로 예측"
   ]
  },
  {
   "cell_type": "code",
   "execution_count": 21,
   "id": "539ed909",
   "metadata": {},
   "outputs": [],
   "source": [
    "predict_prob = model.predict(test_images)"
   ]
  },
  {
   "cell_type": "code",
   "execution_count": 22,
   "id": "4c222028",
   "metadata": {},
   "outputs": [
    {
     "data": {
      "text/plain": [
       "(10000, 10)"
      ]
     },
     "execution_count": 22,
     "metadata": {},
     "output_type": "execute_result"
    }
   ],
   "source": [
    "predict_prob.shape"
   ]
  },
  {
   "cell_type": "code",
   "execution_count": 23,
   "id": "abecc5ee",
   "metadata": {},
   "outputs": [
    {
     "data": {
      "text/plain": [
       "array([6.7513654e-05, 3.1521076e-06, 1.0589060e-03, 1.5175797e-03,\n",
       "       9.0169380e-07, 7.8574718e-05, 7.3392698e-08, 9.9699402e-01,\n",
       "       6.9224029e-06, 2.7245656e-04], dtype=float32)"
      ]
     },
     "execution_count": 23,
     "metadata": {},
     "output_type": "execute_result"
    }
   ],
   "source": [
    "predict_prob[0]"
   ]
  },
  {
   "cell_type": "markdown",
   "id": "292bb47a",
   "metadata": {},
   "source": [
    "* (참고) predict 안에 3차원 데이터 넣기<br>\n",
    "1. reshape\n",
    "2. np.expand_dims"
   ]
  },
  {
   "cell_type": "code",
   "execution_count": 24,
   "id": "46b2d040",
   "metadata": {},
   "outputs": [
    {
     "data": {
      "text/plain": [
       "(28, 28)"
      ]
     },
     "execution_count": 24,
     "metadata": {},
     "output_type": "execute_result"
    }
   ],
   "source": [
    "test_images[0].shape"
   ]
  },
  {
   "cell_type": "code",
   "execution_count": 25,
   "id": "6a4a6c44",
   "metadata": {},
   "outputs": [
    {
     "data": {
      "text/plain": [
       "(1, 28, 28)"
      ]
     },
     "execution_count": 25,
     "metadata": {},
     "output_type": "execute_result"
    }
   ],
   "source": [
    "test_images[0].reshape(-1, 28, 28).shape"
   ]
  },
  {
   "cell_type": "code",
   "execution_count": 26,
   "id": "f680dd35",
   "metadata": {},
   "outputs": [
    {
     "data": {
      "text/plain": [
       "(1, 28, 28)"
      ]
     },
     "execution_count": 26,
     "metadata": {},
     "output_type": "execute_result"
    }
   ],
   "source": [
    "np.expand_dims(test_images[0], axis=0).shape"
   ]
  },
  {
   "cell_type": "markdown",
   "id": "9a7b5573",
   "metadata": {},
   "source": [
    "model.compile : 학습 방식에 대한 환경 설정(optimizer, loss function, metric) <br>\n",
    "model.fit : 학습 <br>\n",
    "model.predict : 예측 <br>\n",
    "model.evaluate : 검증 <br>"
   ]
  },
  {
   "cell_type": "markdown",
   "id": "aa05bbaa",
   "metadata": {},
   "source": [
    "* 시험 데이터로 모델 성능 평가"
   ]
  },
  {
   "cell_type": "code",
   "execution_count": 27,
   "id": "0e1e2251",
   "metadata": {},
   "outputs": [
    {
     "name": "stdout",
     "output_type": "stream",
     "text": [
      "100/100 [==============================] - 0s 1ms/step - loss: 0.1928 - accuracy: 0.9428\n"
     ]
    },
    {
     "data": {
      "text/plain": [
       "[0.1927589774131775, 0.942799985408783]"
      ]
     },
     "execution_count": 27,
     "metadata": {},
     "output_type": "execute_result"
    }
   ],
   "source": [
    "model.evaluate(test_images, test_oh_labels, batch_size=100)"
   ]
  },
  {
   "cell_type": "code",
   "execution_count": 28,
   "id": "25808af8",
   "metadata": {},
   "outputs": [
    {
     "data": {
      "text/plain": [
       "<matplotlib.legend.Legend at 0x14ed9b00a00>"
      ]
     },
     "execution_count": 28,
     "metadata": {},
     "output_type": "execute_result"
    },
    {
     "data": {
      "image/png": "[encoded data removed]",
      "text/plain": [
       "<Figure size 432x288 with 1 Axes>"
      ]
     },
     "metadata": {
      "needs_background": "light"
     },
     "output_type": "display_data"
    }
   ],
   "source": [
    "plt.plot(history.history['accuracy'], label='train')\n",
    "plt.plot(history.history['val_accuracy'], label='valid')\n",
    "plt.legend(loc='lower right')"
   ]
  },
  {
   "cell_type": "markdown",
   "id": "6bead11a",
   "metadata": {},
   "source": [
    "## Fashion MNIST Dataset 신경망 훈련"
   ]
  },
  {
   "cell_type": "code",
   "execution_count": 29,
   "id": "40cd3da2",
   "metadata": {},
   "outputs": [],
   "source": [
    "from tensorflow.keras.datasets import fashion_mnist"
   ]
  },
  {
   "cell_type": "markdown",
   "id": "2dc9292a",
   "metadata": {},
   "source": [
    "* 데이터 적재"
   ]
  },
  {
   "cell_type": "code",
   "execution_count": 76,
   "id": "f51d851d",
   "metadata": {
    "scrolled": true
   },
   "outputs": [],
   "source": [
    "(train_images, train_labels), (test_images, test_labels) = fashion_mnist.load_data()"
   ]
  },
  {
   "cell_type": "code",
   "execution_count": 77,
   "id": "7cd7ad5b",
   "metadata": {},
   "outputs": [
    {
     "data": {
      "text/plain": [
       "((60000, 28, 28), (10000, 28, 28))"
      ]
     },
     "execution_count": 77,
     "metadata": {},
     "output_type": "execute_result"
    }
   ],
   "source": [
    "train_images.shape, test_images.shape"
   ]
  },
  {
   "cell_type": "markdown",
   "id": "8feb5a4c",
   "metadata": {},
   "source": [
    "* 데이터 시각화"
   ]
  },
  {
   "cell_type": "code",
   "execution_count": 125,
   "id": "56012061",
   "metadata": {},
   "outputs": [],
   "source": [
    "class_names = ['T-shirt/top', 'Trouser', 'Pullover', 'Dress', 'Coat','Sandal', 'Shirt', 'Sneaker', 'Bag', 'Ankle boot']"
   ]
  },
  {
   "cell_type": "code",
   "execution_count": 78,
   "id": "9ed32473",
   "metadata": {},
   "outputs": [
    {
     "data": {
      "image/png": "[encoded data removed]",
      "text/plain": [
       "<Figure size 1080x720 with 15 Axes>"
      ]
     },
     "metadata": {
      "needs_background": "light"
     },
     "output_type": "display_data"
    }
   ],
   "source": [
    "plt.figure(figsize = (15,10))\n",
    "\n",
    "for i in range(15):\n",
    "    image = train_images[i]\n",
    "    plt.subplot(3, 5, i+1)\n",
    "    plt.imshow(image, cmap='gray')"
   ]
  },
  {
   "cell_type": "markdown",
   "id": "645d390b",
   "metadata": {},
   "source": [
    "* 데이터 전처리"
   ]
  },
  {
   "cell_type": "code",
   "execution_count": 79,
   "id": "7d156992",
   "metadata": {},
   "outputs": [],
   "source": [
    "train_images = np.array(train_images/255.0, dtype=np.float32)\n",
    "train_labels = np.array(train_labels, dtype=np.float32)\n",
    "test_images = np.array(test_images/255.0, dtype=np.float32)\n",
    "test_labels = np.array(test_labels, dtype=np.float32)"
   ]
  },
  {
   "cell_type": "markdown",
   "id": "1ad60ad6",
   "metadata": {},
   "source": [
    "* 모델 생성"
   ]
  },
  {
   "cell_type": "code",
   "execution_count": 176,
   "id": "51f5039c",
   "metadata": {},
   "outputs": [],
   "source": [
    "model = Sequential([\n",
    "    Flatten(input_shape=(28, 28)),\n",
    "    Dense(100, activation='sigmoid'),\n",
    "    Dense(50, activation='sigmoid'),\n",
    "    Dense(10, activation='softmax')\n",
    "])"
   ]
  },
  {
   "cell_type": "code",
   "execution_count": 177,
   "id": "5ef80f77",
   "metadata": {},
   "outputs": [
    {
     "name": "stdout",
     "output_type": "stream",
     "text": [
      "Model: \"sequential_20\"\n",
      "_________________________________________________________________\n",
      "Layer (type)                 Output Shape              Param #   \n",
      "=================================================================\n",
      "flatten_20 (Flatten)         (None, 784)               0         \n",
      "_________________________________________________________________\n",
      "dense_70 (Dense)             (None, 100)               78500     \n",
      "_________________________________________________________________\n",
      "dense_71 (Dense)             (None, 50)                5050      \n",
      "_________________________________________________________________\n",
      "dense_72 (Dense)             (None, 10)                510       \n",
      "=================================================================\n",
      "Total params: 84,060\n",
      "Trainable params: 84,060\n",
      "Non-trainable params: 0\n",
      "_________________________________________________________________\n"
     ]
    }
   ],
   "source": [
    "model.summary()"
   ]
  },
  {
   "cell_type": "code",
   "execution_count": 178,
   "id": "c16976c7",
   "metadata": {
    "scrolled": true
   },
   "outputs": [],
   "source": [
    "model.compile(optimizer=SGD(lr=0.1, momentum=0.9), loss='categorical_crossentropy', metrics=['accuracy'])"
   ]
  },
  {
   "cell_type": "code",
   "execution_count": 179,
   "id": "2dbab4cc",
   "metadata": {},
   "outputs": [],
   "source": [
    "train_oh_labels = to_categorical(train_labels)\n",
    "test_oh_labels = to_categorical(test_labels)"
   ]
  },
  {
   "cell_type": "markdown",
   "id": "0132d765",
   "metadata": {},
   "source": [
    "* 모델 학습(loss, optimizer 설정)"
   ]
  },
  {
   "cell_type": "code",
   "execution_count": 180,
   "id": "de83352f",
   "metadata": {},
   "outputs": [
    {
     "name": "stdout",
     "output_type": "stream",
     "text": [
      "Epoch 1/20\n",
      "480/480 [==============================] - 2s 3ms/step - loss: 0.7732 - accuracy: 0.7156 - val_loss: 0.4835 - val_accuracy: 0.8280\n",
      "Epoch 2/20\n",
      "480/480 [==============================] - 1s 3ms/step - loss: 0.4605 - accuracy: 0.8330 - val_loss: 0.4347 - val_accuracy: 0.8395\n",
      "Epoch 3/20\n",
      "480/480 [==============================] - 1s 3ms/step - loss: 0.4135 - accuracy: 0.8499 - val_loss: 0.4092 - val_accuracy: 0.8503\n",
      "Epoch 4/20\n",
      "480/480 [==============================] - 1s 3ms/step - loss: 0.3822 - accuracy: 0.8600 - val_loss: 0.3747 - val_accuracy: 0.8619\n",
      "Epoch 5/20\n",
      "480/480 [==============================] - 1s 3ms/step - loss: 0.3628 - accuracy: 0.8687 - val_loss: 0.3568 - val_accuracy: 0.8690\n",
      "Epoch 6/20\n",
      "480/480 [==============================] - 1s 3ms/step - loss: 0.3440 - accuracy: 0.8740 - val_loss: 0.3532 - val_accuracy: 0.8717\n",
      "Epoch 7/20\n",
      "480/480 [==============================] - 1s 3ms/step - loss: 0.3331 - accuracy: 0.8767 - val_loss: 0.3493 - val_accuracy: 0.8687\n",
      "Epoch 8/20\n",
      "480/480 [==============================] - 1s 3ms/step - loss: 0.3249 - accuracy: 0.8798 - val_loss: 0.3762 - val_accuracy: 0.8622\n",
      "Epoch 9/20\n",
      "480/480 [==============================] - 1s 3ms/step - loss: 0.3104 - accuracy: 0.8854 - val_loss: 0.3407 - val_accuracy: 0.8743\n",
      "Epoch 10/20\n",
      "480/480 [==============================] - 1s 3ms/step - loss: 0.2994 - accuracy: 0.8896 - val_loss: 0.3414 - val_accuracy: 0.8723\n",
      "Epoch 11/20\n",
      "480/480 [==============================] - 1s 3ms/step - loss: 0.2910 - accuracy: 0.8922 - val_loss: 0.3513 - val_accuracy: 0.8656\n",
      "Epoch 12/20\n",
      "480/480 [==============================] - 1s 3ms/step - loss: 0.2859 - accuracy: 0.8943 - val_loss: 0.3151 - val_accuracy: 0.8838\n",
      "Epoch 13/20\n",
      "480/480 [==============================] - 1s 3ms/step - loss: 0.2762 - accuracy: 0.8984 - val_loss: 0.3533 - val_accuracy: 0.8714\n",
      "Epoch 14/20\n",
      "480/480 [==============================] - 1s 3ms/step - loss: 0.2679 - accuracy: 0.9003 - val_loss: 0.3299 - val_accuracy: 0.8804\n",
      "Epoch 15/20\n",
      "480/480 [==============================] - 2s 3ms/step - loss: 0.2615 - accuracy: 0.9022 - val_loss: 0.3113 - val_accuracy: 0.8858\n",
      "Epoch 16/20\n",
      "480/480 [==============================] - 1s 3ms/step - loss: 0.2583 - accuracy: 0.9031 - val_loss: 0.3434 - val_accuracy: 0.8752\n",
      "Epoch 17/20\n",
      "480/480 [==============================] - 1s 3ms/step - loss: 0.2535 - accuracy: 0.9052 - val_loss: 0.3287 - val_accuracy: 0.8784\n",
      "Epoch 18/20\n",
      "480/480 [==============================] - 1s 3ms/step - loss: 0.2484 - accuracy: 0.9085 - val_loss: 0.3206 - val_accuracy: 0.8830\n",
      "Epoch 19/20\n",
      "480/480 [==============================] - 1s 3ms/step - loss: 0.2406 - accuracy: 0.9109 - val_loss: 0.3328 - val_accuracy: 0.8811\n",
      "Epoch 20/20\n",
      "480/480 [==============================] - 1s 3ms/step - loss: 0.2369 - accuracy: 0.9132 - val_loss: 0.3535 - val_accuracy: 0.8742\n"
     ]
    },
    {
     "data": {
      "text/plain": [
       "<tensorflow.python.keras.callbacks.History at 0x14e8a67f850>"
      ]
     },
     "execution_count": 180,
     "metadata": {},
     "output_type": "execute_result"
    }
   ],
   "source": [
    "model.fit(x=train_images, y=train_oh_labels, validation_split=0.2, batch_size=100, epochs=20, verbose=1)"
   ]
  },
  {
   "cell_type": "markdown",
   "id": "0fdb3e5f",
   "metadata": {},
   "source": [
    "* 시험 데이터로 예측"
   ]
  },
  {
   "cell_type": "code",
   "execution_count": 99,
   "id": "a202d5d3",
   "metadata": {},
   "outputs": [],
   "source": [
    "pred = model.predict(test_images)"
   ]
  },
  {
   "cell_type": "markdown",
   "id": "8c80c5e1",
   "metadata": {},
   "source": [
    "* 시험 데이터로 평가"
   ]
  },
  {
   "cell_type": "code",
   "execution_count": 153,
   "id": "0ed2d90b",
   "metadata": {},
   "outputs": [
    {
     "name": "stdout",
     "output_type": "stream",
     "text": [
      "100/100 [==============================] - 0s 2ms/step - loss: 0.3427 - accuracy: 0.8871\n"
     ]
    },
    {
     "data": {
      "text/plain": [
       "[0.34274929761886597, 0.8870999813079834]"
      ]
     },
     "execution_count": 153,
     "metadata": {},
     "output_type": "execute_result"
    }
   ],
   "source": [
    "model.evaluate(test_images, test_oh_labels, batch_size=100) # 100, 50, 10, momentum=0.9, lr=0.1, epochs=30"
   ]
  },
  {
   "cell_type": "code",
   "execution_count": null,
   "id": "2f90fcfe",
   "metadata": {},
   "outputs": [],
   "source": []
  }
 ],
 "metadata": {
  "kernelspec": {
   "display_name": "Python 3",
   "language": "python",
   "name": "python3"
  },
  "language_info": {
   "codemirror_mode": {
    "name": "ipython",
    "version": 3
   },
   "file_extension": ".py",
   "mimetype": "text/x-python",
   "name": "python",
   "nbconvert_exporter": "python",
   "pygments_lexer": "ipython3",
   "version": "3.8.8"
  }
 },
 "nbformat": 4,
 "nbformat_minor": 5
}
