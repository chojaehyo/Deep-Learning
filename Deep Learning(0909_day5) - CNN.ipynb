{
 "cells": [
  {
   "cell_type": "markdown",
   "metadata": {
    "id": "gZIR4rdoZoFD"
   },
   "source": [
    "## Fashion MNIST Dataset - CNN망 훈련하기"
   ]
  },
  {
   "cell_type": "code",
   "execution_count": 16,
   "metadata": {
    "executionInfo": {
     "elapsed": 812,
     "status": "ok",
     "timestamp": 1631172994814,
     "user": {
      "displayName": "조재효",
      "photoUrl": "https://lh3.googleusercontent.com/a/default-user=s64",
      "userId": "03242716190295607339"
     },
     "user_tz": -540
    },
    "id": "XT1DI7IrY3qm"
   },
   "outputs": [],
   "source": [
    "from tensorflow.keras.datasets import fashion_mnist\n",
    "from tensorflow.keras.layers import Input, Conv2D, MaxPooling2D\n",
    "from tensorflow.keras.models import Model"
   ]
  },
  {
   "cell_type": "markdown",
   "metadata": {
    "id": "-qk0ir1Jb5XE"
   },
   "source": [
    "#### Conv2D 적용"
   ]
  },
  {
   "cell_type": "code",
   "execution_count": 17,
   "metadata": {
    "executionInfo": {
     "elapsed": 5,
     "status": "ok",
     "timestamp": 1631172995195,
     "user": {
      "displayName": "조재효",
      "photoUrl": "https://lh3.googleusercontent.com/a/default-user=s64",
      "userId": "03242716190295607339"
     },
     "user_tz": -540
    },
    "id": "fgQGtboJZdGn"
   },
   "outputs": [],
   "source": [
    "input_tensor = Input(shape=(28, 28, 1))\n",
    "x = Conv2D(4, kernel_size=3, strides=1, padding=\"same\", activation=\"relu\")(input_tensor)"
   ]
  },
  {
   "cell_type": "markdown",
   "metadata": {
    "id": "WCnpngePaV3j"
   },
   "source": [
    "#### Pooling 적용"
   ]
  },
  {
   "cell_type": "code",
   "execution_count": 18,
   "metadata": {
    "executionInfo": {
     "elapsed": 6,
     "status": "ok",
     "timestamp": 1631172996544,
     "user": {
      "displayName": "조재효",
      "photoUrl": "https://lh3.googleusercontent.com/a/default-user=s64",
      "userId": "03242716190295607339"
     },
     "user_tz": -540
    },
    "id": "GifchnRLbEHj"
   },
   "outputs": [],
   "source": [
    "input_tensor = Input(shape=(28, 28, 1))\n",
    "x = Conv2D(4, kernel_size=3, strides=1, padding=\"same\", activation=\"relu\")(input_tensor)\n",
    "x = MaxPooling2D(2)(x)"
   ]
  },
  {
   "cell_type": "code",
   "execution_count": 19,
   "metadata": {
    "colab": {
     "base_uri": "https://localhost:8080/"
    },
    "executionInfo": {
     "elapsed": 6,
     "status": "ok",
     "timestamp": 1631172996885,
     "user": {
      "displayName": "조재효",
      "photoUrl": "https://lh3.googleusercontent.com/a/default-user=s64",
      "userId": "03242716190295607339"
     },
     "user_tz": -540
    },
    "id": "Ji99i_cVcNEA",
    "outputId": "f25d7d03-7e36-4bd0-a7a5-6a1aaab7b665"
   },
   "outputs": [
    {
     "data": {
      "text/plain": [
       "<KerasTensor: shape=(None, 14, 14, 4) dtype=float32 (created by layer 'max_pooling2d_4')>"
      ]
     },
     "execution_count": 19,
     "metadata": {},
     "output_type": "execute_result"
    }
   ],
   "source": [
    "x"
   ]
  },
  {
   "cell_type": "markdown",
   "metadata": {
    "id": "Y53eLmBqcNgn"
   },
   "source": [
    "#### CNN 모델 생성"
   ]
  },
  {
   "cell_type": "code",
   "execution_count": 21,
   "metadata": {
    "executionInfo": {
     "elapsed": 328,
     "status": "ok",
     "timestamp": 1631173010269,
     "user": {
      "displayName": "조재효",
      "photoUrl": "https://lh3.googleusercontent.com/a/default-user=s64",
      "userId": "03242716190295607339"
     },
     "user_tz": -540
    },
    "id": "N1HqdWCreMRy"
   },
   "outputs": [],
   "source": [
    "input_tensor = Input(shape=(28, 28, 1))\n",
    "x = Conv2D(filters=32, kernel_size=3, strides=1, padding=\"same\", activation=\"relu\")(input_tensor)\n",
    "x = Conv2D(filters=64, kernel_size=3, strides=1, padding=\"valid\", activation=\"relu\")(x)\n",
    "output = MaxPooling2D(2)(x)\n",
    "\n",
    "model = Model(inputs=input_tensor, outputs=output)"
   ]
  },
  {
   "cell_type": "code",
   "execution_count": 22,
   "metadata": {
    "colab": {
     "base_uri": "https://localhost:8080/"
    },
    "executionInfo": {
     "elapsed": 355,
     "status": "ok",
     "timestamp": 1631173017619,
     "user": {
      "displayName": "조재효",
      "photoUrl": "https://lh3.googleusercontent.com/a/default-user=s64",
      "userId": "03242716190295607339"
     },
     "user_tz": -540
    },
    "id": "GMCTTe_Ye_xB",
    "outputId": "328d1d41-eb71-49d3-c0cb-89a22d0a27c1"
   },
   "outputs": [
    {
     "name": "stdout",
     "output_type": "stream",
     "text": [
      "Model: \"model_2\"\n",
      "_________________________________________________________________\n",
      "Layer (type)                 Output Shape              Param #   \n",
      "=================================================================\n",
      "input_11 (InputLayer)        [(None, 28, 28, 1)]       0         \n",
      "_________________________________________________________________\n",
      "conv2d_11 (Conv2D)           (None, 28, 28, 32)        320       \n",
      "_________________________________________________________________\n",
      "conv2d_12 (Conv2D)           (None, 26, 26, 64)        18496     \n",
      "_________________________________________________________________\n",
      "max_pooling2d_6 (MaxPooling2 (None, 13, 13, 64)        0         \n",
      "=================================================================\n",
      "Total params: 18,816\n",
      "Trainable params: 18,816\n",
      "Non-trainable params: 0\n",
      "_________________________________________________________________\n"
     ]
    }
   ],
   "source": [
    "model.summary()"
   ]
  },
  {
   "cell_type": "code",
   "execution_count": null,
   "metadata": {
    "id": "QobQznCYfPmt"
   },
   "outputs": [],
   "source": []
  }
 ],
 "metadata": {
  "accelerator": "GPU",
  "colab": {
   "authorship_tag": "ABX9TyOueczLhi2DHafZp54/SpRN",
   "name": "Deep Learning(0909_day5) - CNN.ipynb",
   "provenance": []
  },
  "kernelspec": {
   "display_name": "Python 3",
   "language": "python",
   "name": "python3"
  },
  "language_info": {
   "codemirror_mode": {
    "name": "ipython",
    "version": 3
   },
   "file_extension": ".py",
   "mimetype": "text/x-python",
   "name": "python",
   "nbconvert_exporter": "python",
   "pygments_lexer": "ipython3",
   "version": "3.8.8"
  }
 },
 "nbformat": 4,
 "nbformat_minor": 1
}
