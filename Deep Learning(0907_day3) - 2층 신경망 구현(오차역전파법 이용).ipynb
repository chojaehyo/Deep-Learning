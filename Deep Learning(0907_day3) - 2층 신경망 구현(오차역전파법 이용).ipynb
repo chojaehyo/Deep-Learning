{
 "cells": [
  {
   "cell_type": "markdown",
   "id": "7488ed75",
   "metadata": {},
   "source": [
    "## 신경망 학습"
   ]
  },
  {
   "cell_type": "code",
   "execution_count": 1,
   "id": "cbf0fd59",
   "metadata": {},
   "outputs": [],
   "source": [
    "from IPython.display import Image\n",
    "import numpy as np\n",
    "import matplotlib.pyplot as plt\n",
    "from dataset.mnist import load_mnist"
   ]
  },
  {
   "cell_type": "code",
   "execution_count": 2,
   "id": "fec4c318",
   "metadata": {},
   "outputs": [],
   "source": [
    "def cross_entropy_error(y, t):\n",
    "    delta = 1e-7\n",
    "    if y.ndim == 1:\n",
    "        y = y.reshape(1, y.size)\n",
    "        t = t.reshape(1, t.size)\n",
    "    batch_size = y.shape[0]\n",
    "    return -np.sum(t*np.log(y+delta)) / batch_size"
   ]
  },
  {
   "cell_type": "markdown",
   "id": "616d9f16",
   "metadata": {},
   "source": [
    "* 신경망에서의 기울기"
   ]
  },
  {
   "cell_type": "code",
   "execution_count": 3,
   "id": "b7375dd1",
   "metadata": {},
   "outputs": [],
   "source": [
    "def numerical_gradient(f, x):\n",
    "    h = 1e-4\n",
    "    grad = np.zeros_like(x)\n",
    "    \n",
    "    it = np.nditer(x, flags=['multi_index'], op_flags=['readwrite'])\n",
    "    \n",
    "    while not it.finished:\n",
    "        idx = it.multi_index\n",
    "        tmp_val = x[idx]\n",
    "        x[idx] = (tmp_val + h)\n",
    "        fxh1 = f(x)            # f(x+h)\n",
    "        \n",
    "        x[idx] = (tmp_val - h)\n",
    "        fxh2 = f(x)            # f(x-h)\n",
    "        \n",
    "        grad[idx] = (fxh1-fxh2) / (2*h)\n",
    "        x[idx] = tmp_val\n",
    "        it.iternext()\n",
    "    return grad"
   ]
  },
  {
   "cell_type": "markdown",
   "id": "727d6dc9",
   "metadata": {},
   "source": [
    "* softmax"
   ]
  },
  {
   "cell_type": "code",
   "execution_count": 4,
   "id": "41f077f2",
   "metadata": {},
   "outputs": [],
   "source": [
    "def softmax(x):\n",
    "    if x.ndim == 2:\n",
    "        x = x.T\n",
    "        x = x - np.max(x, axis=0)\n",
    "        y = np.exp(x) / np.sum(np.exp(x), axis=0)\n",
    "        return y.T \n",
    "\n",
    "    x = x - np.max(x) # 오버플로 대책\n",
    "    return np.exp(x) / np.sum(np.exp(x))\n"
   ]
  },
  {
   "cell_type": "markdown",
   "id": "a67af1d5",
   "metadata": {},
   "source": [
    "* sigmoid"
   ]
  },
  {
   "cell_type": "code",
   "execution_count": 5,
   "id": "09023586",
   "metadata": {},
   "outputs": [],
   "source": [
    "def sigmoid(x):\n",
    "    return 1 / (1 + np.exp(-x))"
   ]
  },
  {
   "cell_type": "markdown",
   "id": "79d0215f",
   "metadata": {},
   "source": [
    "* 2층 신경망 구현하기"
   ]
  },
  {
   "cell_type": "code",
   "execution_count": 11,
   "id": "0e3950cd",
   "metadata": {},
   "outputs": [],
   "source": [
    "class TwoLayerNet: # 신경망에서 사용할 메서드 정의\n",
    "    \n",
    "    def __init__(self, input_size, hidden_size, output_size, weight_init_std=0.01):\n",
    "        # 가중치 초기화\n",
    "        self.params = {}\n",
    "        self.params['W1'] = weight_init_std * np.random.randn(input_size, hidden_size) # 값 너무 커지는거 방지하려고 std곱해줌\n",
    "        self.params['b1'] = np.zeros(hidden_size)\n",
    "        self.params['W2'] = weight_init_std * np.random.randn(hidden_size, output_size) \n",
    "        self.params['b2'] = np.zeros(output_size)\n",
    "        \n",
    "    def predict(self, x): # 예측: 입력과 가중치 곱의 합을 함수에 통과시키는 과정 \n",
    "        # 예측 구하기(가중치의 합 > sigmoid 통과 > 가중치의 합 > softmax 통과)\n",
    "        W1, W2 = self.params['W1'], self.params['W2']\n",
    "        b1, b2 = self.params['b1'], self.params['b2']\n",
    "        a1 = np.dot(x, W1) + b1\n",
    "        z1 = sigmoid(a1)\n",
    "\n",
    "        a2 = np.dot(z1, W2) + b2 \n",
    "        y = softmax(a2)\n",
    "        return y\n",
    "    \n",
    "    def loss(self, x, t): # 예측과 정답의 차이\n",
    "        # 손실(비용)힘수의 결과 구하기\n",
    "        y = self.predict(x)\n",
    "        return cross_entropy_error(y, t)\n",
    "    \n",
    "    def accuracy(self, x, t): # 최종 예측에서는 softmax 통과할 필요없이 가장 큰 값만 찾아서 같은지 비교 \n",
    "        y = self.predict(x)\n",
    "        y = np.argmax(y, axis=1)\n",
    "        t = np.argmax(t, axis=1)\n",
    "        \n",
    "        accuracy = np.sum(y == t) / float(x.shape[0])\n",
    "        return accuracy\n",
    "    \n",
    "    def numerical_gradient(self, x, t):\n",
    "        # 수치 미분(중앙차분)\n",
    "        # 그레디언트(편미분의 벡터) 구하기\n",
    "        loss_W = lambda W : self.loss(x, t)\n",
    "        \n",
    "        grads = {}\n",
    "        grads['W1'] = numerical_gradient(loss_W, self.params['W1'])\n",
    "        grads['b1'] = numerical_gradient(loss_W, self.params['b1'])\n",
    "        grads['W2'] = numerical_gradient(loss_W, self.params['W2'])\n",
    "        grads['b2'] = numerical_gradient(loss_W, self.params['b2'])\n",
    "        \n",
    "        return grads\n",
    "    \n",
    "    def gradient(self, x, t):\n",
    "        W1 = self.params['W1']\n",
    "        W2 = self.params['W2']\n",
    "        b1 = self.params['b1']\n",
    "        b2 = self.params['b2']\n",
    "        \n",
    "        batch_size = t.shape[0]\n",
    "        grads = {}\n",
    "        \n",
    "        a1 = np.dot(x, W1) + b1\n",
    "        z1 = sigmoid(a1)\n",
    "        a2 = np.dot(z1, W2) + b2\n",
    "        y = softmax(a2)\n",
    "        \n",
    "        da2 = (y-t) / batch_size\n",
    "        grads['W2'] = np.dot(z1.T, da2)\n",
    "        grads['b2'] = np.sum(da2, axis=0)\n",
    "        \n",
    "        dz1 = np.dot(da2, W2.T)\n",
    "        da1 = ((1-z1) * z1)* dz1\n",
    "        grads['W1'] = np.dot(x.T, da1)\n",
    "        grads['b1'] = np.sum(da1, axis=0)\n",
    "        \n",
    "        return grads"
   ]
  },
  {
   "cell_type": "code",
   "execution_count": 12,
   "id": "423ba29e",
   "metadata": {
    "scrolled": true
   },
   "outputs": [
    {
     "name": "stdout",
     "output_type": "stream",
     "text": [
      "train acc, test acc | 0.09915, 0.1009\n",
      "train acc, test acc | 0.7963166666666667, 0.8008\n",
      "train acc, test acc | 0.8779333333333333, 0.8813\n",
      "train acc, test acc | 0.8986833333333333, 0.9036\n",
      "train acc, test acc | 0.9090333333333334, 0.9124\n",
      "train acc, test acc | 0.91515, 0.92\n",
      "train acc, test acc | 0.92045, 0.9247\n",
      "train acc, test acc | 0.9249333333333334, 0.9282\n",
      "train acc, test acc | 0.9285333333333333, 0.9304\n",
      "train acc, test acc | 0.9317333333333333, 0.9342\n",
      "train acc, test acc | 0.9347666666666666, 0.9354\n",
      "train acc, test acc | 0.9373, 0.9385\n",
      "train acc, test acc | 0.9394166666666667, 0.9402\n",
      "train acc, test acc | 0.9423166666666667, 0.9411\n",
      "train acc, test acc | 0.9429333333333333, 0.9416\n",
      "train acc, test acc | 0.9459333333333333, 0.943\n",
      "train acc, test acc | 0.9467666666666666, 0.9441\n"
     ]
    }
   ],
   "source": [
    "(x_train, t_train), (x_test, t_test) = load_mnist(normalize=True, one_hot_label=True)\n",
    "\n",
    "network = TwoLayerNet(input_size=784, hidden_size=50, output_size=10)\n",
    "\n",
    "# 하이퍼파라미터 설정\n",
    "\n",
    "iters_num = 10000\n",
    "train_size = x_train.shape[0]\n",
    "batch_size = 100\n",
    "learning_rate = 0.1\n",
    "\n",
    "train_loss_list = []\n",
    "train_acc_list = []\n",
    "test_acc_list = []\n",
    "\n",
    "# 1에폭당 반복 수(1에폭 당 600번)\n",
    "iter_per_epoch = max(train_size / batch_size, 1)\n",
    "\n",
    "for i in range(iters_num): # 경사하강법\n",
    "    batch_mask = np.random.choice(train_size, batch_size)\n",
    "    x_batch = x_train[batch_mask]\n",
    "    t_batch = t_train[batch_mask]\n",
    "    #grad = network.numerical_gradient(x_batch, t_batch) # 미분된 벡터\n",
    "    grad = network.gradient(x_batch, t_batch)\n",
    "    \n",
    "    for key in ('W1', 'b1', 'W2', 'b2'): # 경사하강법\n",
    "        network.params[key] = network.params[key] - (learning_rate * grad[key])\n",
    "        \n",
    "    loss = network.loss(x_batch, t_batch)\n",
    "    train_loss_list.append(loss)\n",
    "    \n",
    "    if i % iter_per_epoch == 0: # 600의 배수일 때 출력\n",
    "        train_acc = network.accuracy(x_train, t_train)\n",
    "        test_acc = network.accuracy(x_test, t_test)\n",
    "        train_acc_list.append(train_acc)\n",
    "        test_acc_list.append(test_acc)\n",
    "        print(\"train acc, test acc | \" + str(train_acc) + \", \" + str(test_acc))"
   ]
  },
  {
   "cell_type": "code",
   "execution_count": 14,
   "id": "8666a884",
   "metadata": {},
   "outputs": [
    {
     "data": {
      "text/plain": [
       "17"
      ]
     },
     "execution_count": 14,
     "metadata": {},
     "output_type": "execute_result"
    }
   ],
   "source": [
    "len(train_acc_list)"
   ]
  },
  {
   "cell_type": "code",
   "execution_count": 26,
   "id": "c2a82eaa",
   "metadata": {},
   "outputs": [
    {
     "data": {
      "text/plain": [
       "<matplotlib.legend.Legend at 0x29a6e1576a0>"
      ]
     },
     "execution_count": 26,
     "metadata": {},
     "output_type": "execute_result"
    },
    {
     "data": {
      "image/png": "[encoded data removed]",
      "text/plain": [
       "<Figure size 432x288 with 1 Axes>"
      ]
     },
     "metadata": {
      "needs_background": "light"
     },
     "output_type": "display_data"
    }
   ],
   "source": [
    "x = np.arange(len(train_acc_list))\n",
    "plt.plot(x, train_acc_list, label='train accuracy')\n",
    "plt.plot(x, test_acc_list, label='test accuracy', linestyle='--')\n",
    "plt.xlabel('epochs')\n",
    "plt.ylabel('accuracy')\n",
    "plt.legend(loc='lower right')"
   ]
  },
  {
   "cell_type": "code",
   "execution_count": 23,
   "id": "26887493",
   "metadata": {},
   "outputs": [
    {
     "data": {
      "text/plain": [
       "[<matplotlib.lines.Line2D at 0x29a6dfd3130>]"
      ]
     },
     "execution_count": 23,
     "metadata": {},
     "output_type": "execute_result"
    },
    {
     "data": {
      "image/png": "[encoded data removed]",
      "text/plain": [
       "<Figure size 432x288 with 1 Axes>"
      ]
     },
     "metadata": {
      "needs_background": "light"
     },
     "output_type": "display_data"
    }
   ],
   "source": [
    "x = np.arange(len(train_loss_list))\n",
    "plt.plot(x, train_loss_list)"
   ]
  },
  {
   "cell_type": "code",
   "execution_count": 24,
   "id": "d05a5665",
   "metadata": {},
   "outputs": [
    {
     "data": {
      "text/plain": [
       "[<matplotlib.lines.Line2D at 0x29a6a084040>]"
      ]
     },
     "execution_count": 24,
     "metadata": {},
     "output_type": "execute_result"
    },
    {
     "data": {
      "image/png": "[encoded data removed]",
      "text/plain": [
       "<Figure size 432x288 with 1 Axes>"
      ]
     },
     "metadata": {
      "needs_background": "light"
     },
     "output_type": "display_data"
    }
   ],
   "source": [
    "x = np.arange(len(train_loss_list)-9000)\n",
    "plt.plot(x, train_loss_list[:1000])"
   ]
  },
  {
   "cell_type": "code",
   "execution_count": null,
   "id": "24e477cd",
   "metadata": {},
   "outputs": [],
   "source": []
  }
 ],
 "metadata": {
  "kernelspec": {
   "display_name": "Python 3",
   "language": "python",
   "name": "python3"
  },
  "language_info": {
   "codemirror_mode": {
    "name": "ipython",
    "version": 3
   },
   "file_extension": ".py",
   "mimetype": "text/x-python",
   "name": "python",
   "nbconvert_exporter": "python",
   "pygments_lexer": "ipython3",
   "version": "3.8.8"
  }
 },
 "nbformat": 4,
 "nbformat_minor": 5
}
