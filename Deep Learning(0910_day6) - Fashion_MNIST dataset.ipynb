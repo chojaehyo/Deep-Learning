{
 "cells": [
  {
   "cell_type": "markdown",
   "metadata": {
    "id": "gZIR4rdoZoFD"
   },
   "source": [
    "## Fashion MNIST Dataset - CNN망 훈련하기"
   ]
  },
  {
   "cell_type": "code",
   "execution_count": 40,
   "metadata": {
    "id": "XT1DI7IrY3qm"
   },
   "outputs": [],
   "source": [
    "from tensorflow.keras.datasets import fashion_mnist\n",
    "from tensorflow.keras.layers import Input, Conv2D, MaxPooling2D, Flatten, Dense, Dropout\n",
    "from tensorflow.keras.models import Model\n",
    "from tensorflow.keras.backend import clear_session\n",
    "import numpy as np\n",
    "from tensorflow.keras.utils import to_categorical\n",
    "import matplotlib.pyplot as plt"
   ]
  },
  {
   "cell_type": "code",
   "execution_count": 22,
   "metadata": {
    "id": "QobQznCYfPmt"
   },
   "outputs": [],
   "source": [
    "from tensorflow.keras.optimizers import SGD, Adam\n",
    "from tensorflow.keras.callbacks import ModelCheckpoint\n",
    "from tensorflow.keras.models import load_model"
   ]
  },
  {
   "cell_type": "markdown",
   "metadata": {
    "id": "OVI0Yr8lV3Bs"
   },
   "source": [
    "#### 데이터 적재 및 전처리"
   ]
  },
  {
   "cell_type": "code",
   "execution_count": 3,
   "metadata": {
    "colab": {
     "base_uri": "https://localhost:8080/"
    },
    "id": "OoQM6bBKr8F6",
    "outputId": "15c0b1d8-0656-4e55-c894-c68b04f9c791"
   },
   "outputs": [
    {
     "name": "stdout",
     "output_type": "stream",
     "text": [
      "Downloading data from https://storage.googleapis.com/tensorflow/tf-keras-datasets/train-labels-idx1-ubyte.gz\n",
      "32768/29515 [=================================] - 0s 0us/step\n",
      "40960/29515 [=========================================] - 0s 0us/step\n",
      "Downloading data from https://storage.googleapis.com/tensorflow/tf-keras-datasets/train-images-idx3-ubyte.gz\n",
      "26427392/26421880 [==============================] - 0s 0us/step\n",
      "26435584/26421880 [==============================] - 0s 0us/step\n",
      "Downloading data from https://storage.googleapis.com/tensorflow/tf-keras-datasets/t10k-labels-idx1-ubyte.gz\n",
      "16384/5148 [===============================================================================================] - 0s 0us/step\n",
      "Downloading data from https://storage.googleapis.com/tensorflow/tf-keras-datasets/t10k-images-idx3-ubyte.gz\n",
      "4423680/4422102 [==============================] - 0s 0us/step\n",
      "4431872/4422102 [==============================] - 0s 0us/step\n"
     ]
    }
   ],
   "source": [
    "(train_images, train_labels), (test_images, test_labels) = fashion_mnist.load_data()"
   ]
  },
  {
   "cell_type": "code",
   "execution_count": 4,
   "metadata": {
    "id": "ssjeogLWsTA1"
   },
   "outputs": [],
   "source": [
    "train_images = np.array(train_images/255.0, dtype=np.float32)\n",
    "train_labels = np.array(train_labels, dtype=np.float32)\n",
    "test_images = np.array(test_images/255.0, dtype=np.float32)\n",
    "test_labels = np.array(test_labels, dtype=np.float32)\n",
    "\n",
    "train_oh_labels = to_categorical(train_labels)\n",
    "test_oh_labels = to_categorical(test_labels)"
   ]
  },
  {
   "cell_type": "markdown",
   "metadata": {
    "id": "-qk0ir1Jb5XE"
   },
   "source": [
    "#### Conv2D 적용"
   ]
  },
  {
   "cell_type": "code",
   "execution_count": 5,
   "metadata": {
    "id": "fgQGtboJZdGn"
   },
   "outputs": [],
   "source": [
    "input_tensor = Input(shape=(28, 28, 1))\n",
    "x = Conv2D(4, kernel_size=3, strides=1, padding=\"same\", activation=\"relu\")(input_tensor)"
   ]
  },
  {
   "cell_type": "markdown",
   "metadata": {
    "id": "WCnpngePaV3j"
   },
   "source": [
    "#### Pooling 적용"
   ]
  },
  {
   "cell_type": "code",
   "execution_count": 6,
   "metadata": {
    "id": "GifchnRLbEHj"
   },
   "outputs": [],
   "source": [
    "input_tensor = Input(shape=(28, 28, 1))\n",
    "x = Conv2D(4, kernel_size=3, strides=1, padding=\"same\", activation=\"relu\")(input_tensor)\n",
    "x = MaxPooling2D(2)(x)"
   ]
  },
  {
   "cell_type": "code",
   "execution_count": 7,
   "metadata": {
    "colab": {
     "base_uri": "https://localhost:8080/"
    },
    "id": "Ji99i_cVcNEA",
    "outputId": "bb2c0d56-5ebd-44ec-8471-e4b2db2be931"
   },
   "outputs": [
    {
     "data": {
      "text/plain": [
       "<KerasTensor: shape=(None, 14, 14, 4) dtype=float32 (created by layer 'max_pooling2d')>"
      ]
     },
     "execution_count": 7,
     "metadata": {},
     "output_type": "execute_result"
    }
   ],
   "source": [
    "x"
   ]
  },
  {
   "cell_type": "markdown",
   "metadata": {
    "id": "Y53eLmBqcNgn"
   },
   "source": [
    "#### CNN 모델 생성"
   ]
  },
  {
   "cell_type": "code",
   "execution_count": 8,
   "metadata": {
    "id": "N1HqdWCreMRy"
   },
   "outputs": [],
   "source": [
    "input_tensor = Input(shape=(28, 28, 1))\n",
    "x = Conv2D(filters=32, kernel_size=3, strides=1, padding=\"same\", activation=\"relu\")(input_tensor)\n",
    "x = Conv2D(filters=64, kernel_size=3, strides=1, padding=\"same\", activation=\"relu\")(x)\n",
    "x = MaxPooling2D(2)(x)\n",
    "x = Flatten()(x)\n",
    "x = Dense(100, activation='relu')(x)\n",
    "output = Dense(10, activation='softmax')(x)\n",
    "model = Model(inputs=input_tensor, outputs=output)"
   ]
  },
  {
   "cell_type": "code",
   "execution_count": 9,
   "metadata": {
    "colab": {
     "base_uri": "https://localhost:8080/"
    },
    "id": "GMCTTe_Ye_xB",
    "outputId": "ad8c87d5-f528-4c17-9d58-ae31b24d0e51"
   },
   "outputs": [
    {
     "name": "stdout",
     "output_type": "stream",
     "text": [
      "Model: \"model\"\n",
      "_________________________________________________________________\n",
      "Layer (type)                 Output Shape              Param #   \n",
      "=================================================================\n",
      "input_3 (InputLayer)         [(None, 28, 28, 1)]       0         \n",
      "_________________________________________________________________\n",
      "conv2d_2 (Conv2D)            (None, 28, 28, 32)        320       \n",
      "_________________________________________________________________\n",
      "conv2d_3 (Conv2D)            (None, 28, 28, 64)        18496     \n",
      "_________________________________________________________________\n",
      "max_pooling2d_1 (MaxPooling2 (None, 14, 14, 64)        0         \n",
      "_________________________________________________________________\n",
      "flatten (Flatten)            (None, 12544)             0         \n",
      "_________________________________________________________________\n",
      "dense (Dense)                (None, 100)               1254500   \n",
      "_________________________________________________________________\n",
      "dense_1 (Dense)              (None, 10)                1010      \n",
      "=================================================================\n",
      "Total params: 1,274,326\n",
      "Trainable params: 1,274,326\n",
      "Non-trainable params: 0\n",
      "_________________________________________________________________\n"
     ]
    }
   ],
   "source": [
    "model.summary()"
   ]
  },
  {
   "cell_type": "code",
   "execution_count": 10,
   "metadata": {
    "colab": {
     "base_uri": "https://localhost:8080/"
    },
    "id": "4yjUHfs1tLDp",
    "outputId": "56ff458e-7e75-491b-fecc-b1c61e141009"
   },
   "outputs": [
    {
     "name": "stdout",
     "output_type": "stream",
     "text": [
      "Epoch 1/20\n",
      "375/375 [==============================] - 35s 17ms/step - loss: 0.6710 - accuracy: 0.7537 - val_loss: 0.4437 - val_accuracy: 0.8371\n",
      "\n",
      "Epoch 00001: val_loss improved from inf to 0.44366, saving model to my_keras_cnn.h5\n",
      "Epoch 2/20\n",
      "375/375 [==============================] - 6s 16ms/step - loss: 0.3808 - accuracy: 0.8624 - val_loss: 0.3861 - val_accuracy: 0.8563\n",
      "\n",
      "Epoch 00002: val_loss improved from 0.44366 to 0.38613, saving model to my_keras_cnn.h5\n",
      "Epoch 3/20\n",
      "375/375 [==============================] - 6s 16ms/step - loss: 0.3223 - accuracy: 0.8832 - val_loss: 0.3207 - val_accuracy: 0.8832\n",
      "\n",
      "Epoch 00003: val_loss improved from 0.38613 to 0.32074, saving model to my_keras_cnn.h5\n",
      "Epoch 4/20\n",
      "375/375 [==============================] - 6s 16ms/step - loss: 0.2897 - accuracy: 0.8939 - val_loss: 0.2918 - val_accuracy: 0.8928\n",
      "\n",
      "Epoch 00004: val_loss improved from 0.32074 to 0.29185, saving model to my_keras_cnn.h5\n",
      "Epoch 5/20\n",
      "375/375 [==============================] - 6s 16ms/step - loss: 0.2616 - accuracy: 0.9037 - val_loss: 0.2758 - val_accuracy: 0.8992\n",
      "\n",
      "Epoch 00005: val_loss improved from 0.29185 to 0.27578, saving model to my_keras_cnn.h5\n",
      "Epoch 6/20\n",
      "375/375 [==============================] - 6s 16ms/step - loss: 0.2418 - accuracy: 0.9107 - val_loss: 0.2614 - val_accuracy: 0.9053\n",
      "\n",
      "Epoch 00006: val_loss improved from 0.27578 to 0.26139, saving model to my_keras_cnn.h5\n",
      "Epoch 7/20\n",
      "375/375 [==============================] - 6s 16ms/step - loss: 0.2260 - accuracy: 0.9172 - val_loss: 0.2787 - val_accuracy: 0.8939\n",
      "\n",
      "Epoch 00007: val_loss did not improve from 0.26139\n",
      "Epoch 8/20\n",
      "375/375 [==============================] - 6s 16ms/step - loss: 0.2109 - accuracy: 0.9224 - val_loss: 0.2622 - val_accuracy: 0.9047\n",
      "\n",
      "Epoch 00008: val_loss did not improve from 0.26139\n",
      "Epoch 9/20\n",
      "375/375 [==============================] - 6s 16ms/step - loss: 0.1946 - accuracy: 0.9285 - val_loss: 0.2523 - val_accuracy: 0.9082\n",
      "\n",
      "Epoch 00009: val_loss improved from 0.26139 to 0.25234, saving model to my_keras_cnn.h5\n",
      "Epoch 10/20\n",
      "375/375 [==============================] - 6s 16ms/step - loss: 0.1816 - accuracy: 0.9337 - val_loss: 0.2460 - val_accuracy: 0.9130\n",
      "\n",
      "Epoch 00010: val_loss improved from 0.25234 to 0.24599, saving model to my_keras_cnn.h5\n",
      "Epoch 11/20\n",
      "375/375 [==============================] - 6s 16ms/step - loss: 0.1680 - accuracy: 0.9390 - val_loss: 0.2427 - val_accuracy: 0.9142\n",
      "\n",
      "Epoch 00011: val_loss improved from 0.24599 to 0.24271, saving model to my_keras_cnn.h5\n",
      "Epoch 12/20\n",
      "375/375 [==============================] - 6s 16ms/step - loss: 0.1565 - accuracy: 0.9430 - val_loss: 0.2851 - val_accuracy: 0.9038\n",
      "\n",
      "Epoch 00012: val_loss did not improve from 0.24271\n",
      "Epoch 13/20\n",
      "375/375 [==============================] - 6s 16ms/step - loss: 0.1447 - accuracy: 0.9481 - val_loss: 0.2711 - val_accuracy: 0.9075\n",
      "\n",
      "Epoch 00013: val_loss did not improve from 0.24271\n",
      "Epoch 14/20\n",
      "375/375 [==============================] - 6s 16ms/step - loss: 0.1339 - accuracy: 0.9514 - val_loss: 0.2568 - val_accuracy: 0.9141\n",
      "\n",
      "Epoch 00014: val_loss did not improve from 0.24271\n",
      "Epoch 15/20\n",
      "375/375 [==============================] - 6s 17ms/step - loss: 0.1255 - accuracy: 0.9537 - val_loss: 0.2640 - val_accuracy: 0.9148\n",
      "\n",
      "Epoch 00015: val_loss did not improve from 0.24271\n",
      "Epoch 16/20\n",
      "375/375 [==============================] - 6s 16ms/step - loss: 0.1154 - accuracy: 0.9581 - val_loss: 0.2602 - val_accuracy: 0.9171\n",
      "\n",
      "Epoch 00016: val_loss did not improve from 0.24271\n",
      "Epoch 17/20\n",
      "375/375 [==============================] - 6s 16ms/step - loss: 0.1058 - accuracy: 0.9619 - val_loss: 0.2692 - val_accuracy: 0.9156\n",
      "\n",
      "Epoch 00017: val_loss did not improve from 0.24271\n",
      "Epoch 18/20\n",
      "375/375 [==============================] - 6s 16ms/step - loss: 0.0965 - accuracy: 0.9643 - val_loss: 0.2709 - val_accuracy: 0.9144\n",
      "\n",
      "Epoch 00018: val_loss did not improve from 0.24271\n",
      "Epoch 19/20\n",
      "375/375 [==============================] - 6s 16ms/step - loss: 0.0875 - accuracy: 0.9679 - val_loss: 0.2775 - val_accuracy: 0.9179\n",
      "\n",
      "Epoch 00019: val_loss did not improve from 0.24271\n",
      "Epoch 20/20\n",
      "375/375 [==============================] - 6s 16ms/step - loss: 0.0793 - accuracy: 0.9713 - val_loss: 0.2970 - val_accuracy: 0.9141\n",
      "\n",
      "Epoch 00020: val_loss did not improve from 0.24271\n"
     ]
    }
   ],
   "source": [
    "model.compile(optimizer=SGD(0.1), loss='categorical_crossentropy', metrics=['accuracy'])\n",
    "\n",
    "checkpoint_cb = ModelCheckpoint(\"my_keras_cnn.h5\", save_best_only=True, verbose=1)\n",
    "history = model.fit(train_images, train_oh_labels, validation_split=0.2, batch_size=128, epochs=20, verbose=1, callbacks=[checkpoint_cb])"
   ]
  },
  {
   "cell_type": "code",
   "execution_count": 15,
   "metadata": {
    "colab": {
     "base_uri": "https://localhost:8080/",
     "height": 282
    },
    "id": "eyw4Joozwu0o",
    "outputId": "720669a5-ebf1-48a3-c663-246ccc256776"
   },
   "outputs": [
    {
     "data": {
      "text/plain": [
       "<matplotlib.legend.Legend at 0x7fe9ed344390>"
      ]
     },
     "execution_count": 15,
     "metadata": {},
     "output_type": "execute_result"
    },
    {
     "data": {
      "image/png": "[encoded data removed]",
      "text/plain": [
       "<Figure size 432x288 with 1 Axes>"
      ]
     },
     "metadata": {
      "needs_background": "light"
     },
     "output_type": "display_data"
    }
   ],
   "source": [
    "plt.plot(history.history['accuracy'], label='train')\n",
    "plt.plot(history.history['val_accuracy'], label='valid')\n",
    "plt.legend()"
   ]
  },
  {
   "cell_type": "code",
   "execution_count": 16,
   "metadata": {
    "colab": {
     "base_uri": "https://localhost:8080/"
    },
    "id": "FcJDRpxfwrNr",
    "outputId": "bc7407ec-3759-46fd-f7f3-2ea08ca864da"
   },
   "outputs": [
    {
     "name": "stdout",
     "output_type": "stream",
     "text": [
      "79/79 [==============================] - 1s 8ms/step - loss: 0.2658 - accuracy: 0.9067\n"
     ]
    },
    {
     "data": {
      "text/plain": [
       "[0.26578807830810547, 0.9067000150680542]"
      ]
     },
     "execution_count": 16,
     "metadata": {},
     "output_type": "execute_result"
    }
   ],
   "source": [
    "model = load_model(\"my_keras_cnn.h5\")\n",
    "model.evaluate(test_images, test_oh_labels, batch_size=128)"
   ]
  },
  {
   "cell_type": "markdown",
   "metadata": {
    "id": "L5P191NJSBJN"
   },
   "source": [
    "#### Dropout 적용"
   ]
  },
  {
   "cell_type": "code",
   "execution_count": 18,
   "metadata": {
    "colab": {
     "base_uri": "https://localhost:8080/"
    },
    "id": "k1F3qDqpSkbZ",
    "outputId": "52cdbae0-e1ef-42fb-c549-e2d3d1baaaa9"
   },
   "outputs": [
    {
     "name": "stdout",
     "output_type": "stream",
     "text": [
      "Model: \"model_1\"\n",
      "_________________________________________________________________\n",
      "Layer (type)                 Output Shape              Param #   \n",
      "=================================================================\n",
      "input_4 (InputLayer)         [(None, 28, 28, 1)]       0         \n",
      "_________________________________________________________________\n",
      "conv2d_4 (Conv2D)            (None, 28, 28, 32)        320       \n",
      "_________________________________________________________________\n",
      "conv2d_5 (Conv2D)            (None, 28, 28, 64)        18496     \n",
      "_________________________________________________________________\n",
      "max_pooling2d_2 (MaxPooling2 (None, 14, 14, 64)        0         \n",
      "_________________________________________________________________\n",
      "flatten_1 (Flatten)          (None, 12544)             0         \n",
      "_________________________________________________________________\n",
      "dropout (Dropout)            (None, 12544)             0         \n",
      "_________________________________________________________________\n",
      "dense_2 (Dense)              (None, 100)               1254500   \n",
      "_________________________________________________________________\n",
      "dense_3 (Dense)              (None, 10)                1010      \n",
      "=================================================================\n",
      "Total params: 1,274,326\n",
      "Trainable params: 1,274,326\n",
      "Non-trainable params: 0\n",
      "_________________________________________________________________\n"
     ]
    }
   ],
   "source": [
    "input_tensor = Input(shape=(28, 28, 1))\n",
    "x = Conv2D(filters=32, kernel_size=3, strides=1, padding=\"same\", activation=\"relu\")(input_tensor)\n",
    "x = Conv2D(filters=64, kernel_size=3, strides=1, padding=\"same\", activation=\"relu\")(x)\n",
    "x = MaxPooling2D(2)(x)\n",
    "x = Flatten()(x)\n",
    "x = Dropout(rate=0.5)(x)\n",
    "x = Dense(100, activation='relu')(x)\n",
    "output = Dense(10, activation='softmax')(x)\n",
    "model = Model(inputs=input_tensor, outputs=output)\n",
    "model.summary()"
   ]
  },
  {
   "cell_type": "code",
   "execution_count": 19,
   "metadata": {
    "colab": {
     "base_uri": "https://localhost:8080/"
    },
    "id": "ZxBaQNdNTB1J",
    "outputId": "bba3a3e1-ddf5-4260-c98e-0d43d018a919"
   },
   "outputs": [
    {
     "name": "stdout",
     "output_type": "stream",
     "text": [
      "Epoch 1/20\n",
      "375/375 [==============================] - 7s 17ms/step - loss: 0.6706 - accuracy: 0.7567 - val_loss: 0.4281 - val_accuracy: 0.8432\n",
      "\n",
      "Epoch 00001: val_loss improved from inf to 0.42809, saving model to my_keras_cnn.h5\n",
      "Epoch 2/20\n",
      "375/375 [==============================] - 6s 16ms/step - loss: 0.3962 - accuracy: 0.8571 - val_loss: 0.3492 - val_accuracy: 0.8752\n",
      "\n",
      "Epoch 00002: val_loss improved from 0.42809 to 0.34923, saving model to my_keras_cnn.h5\n",
      "Epoch 3/20\n",
      "375/375 [==============================] - 6s 16ms/step - loss: 0.3433 - accuracy: 0.8746 - val_loss: 0.3271 - val_accuracy: 0.8765\n",
      "\n",
      "Epoch 00003: val_loss improved from 0.34923 to 0.32712, saving model to my_keras_cnn.h5\n",
      "Epoch 4/20\n",
      "375/375 [==============================] - 6s 16ms/step - loss: 0.3120 - accuracy: 0.8859 - val_loss: 0.2932 - val_accuracy: 0.8935\n",
      "\n",
      "Epoch 00004: val_loss improved from 0.32712 to 0.29319, saving model to my_keras_cnn.h5\n",
      "Epoch 5/20\n",
      "375/375 [==============================] - 6s 16ms/step - loss: 0.2896 - accuracy: 0.8932 - val_loss: 0.2956 - val_accuracy: 0.8898\n",
      "\n",
      "Epoch 00005: val_loss did not improve from 0.29319\n",
      "Epoch 6/20\n",
      "375/375 [==============================] - 6s 16ms/step - loss: 0.2703 - accuracy: 0.8999 - val_loss: 0.2741 - val_accuracy: 0.8975\n",
      "\n",
      "Epoch 00006: val_loss improved from 0.29319 to 0.27413, saving model to my_keras_cnn.h5\n",
      "Epoch 7/20\n",
      "375/375 [==============================] - 6s 16ms/step - loss: 0.2550 - accuracy: 0.9061 - val_loss: 0.2622 - val_accuracy: 0.9037\n",
      "\n",
      "Epoch 00007: val_loss improved from 0.27413 to 0.26217, saving model to my_keras_cnn.h5\n",
      "Epoch 8/20\n",
      "375/375 [==============================] - 6s 16ms/step - loss: 0.2420 - accuracy: 0.9106 - val_loss: 0.2501 - val_accuracy: 0.9093\n",
      "\n",
      "Epoch 00008: val_loss improved from 0.26217 to 0.25007, saving model to my_keras_cnn.h5\n",
      "Epoch 9/20\n",
      "375/375 [==============================] - 6s 16ms/step - loss: 0.2281 - accuracy: 0.9152 - val_loss: 0.2442 - val_accuracy: 0.9100\n",
      "\n",
      "Epoch 00009: val_loss improved from 0.25007 to 0.24419, saving model to my_keras_cnn.h5\n",
      "Epoch 10/20\n",
      "375/375 [==============================] - 6s 16ms/step - loss: 0.2168 - accuracy: 0.9201 - val_loss: 0.2382 - val_accuracy: 0.9113\n",
      "\n",
      "Epoch 00010: val_loss improved from 0.24419 to 0.23825, saving model to my_keras_cnn.h5\n",
      "Epoch 11/20\n",
      "375/375 [==============================] - 6s 16ms/step - loss: 0.2062 - accuracy: 0.9240 - val_loss: 0.2362 - val_accuracy: 0.9156\n",
      "\n",
      "Epoch 00011: val_loss improved from 0.23825 to 0.23619, saving model to my_keras_cnn.h5\n",
      "Epoch 12/20\n",
      "375/375 [==============================] - 6s 17ms/step - loss: 0.1956 - accuracy: 0.9275 - val_loss: 0.2332 - val_accuracy: 0.9136\n",
      "\n",
      "Epoch 00012: val_loss improved from 0.23619 to 0.23321, saving model to my_keras_cnn.h5\n",
      "Epoch 13/20\n",
      "375/375 [==============================] - 6s 16ms/step - loss: 0.1891 - accuracy: 0.9297 - val_loss: 0.2326 - val_accuracy: 0.9147\n",
      "\n",
      "Epoch 00013: val_loss improved from 0.23321 to 0.23259, saving model to my_keras_cnn.h5\n",
      "Epoch 14/20\n",
      "375/375 [==============================] - 6s 16ms/step - loss: 0.1790 - accuracy: 0.9331 - val_loss: 0.2256 - val_accuracy: 0.9197\n",
      "\n",
      "Epoch 00014: val_loss improved from 0.23259 to 0.22561, saving model to my_keras_cnn.h5\n",
      "Epoch 15/20\n",
      "375/375 [==============================] - 6s 16ms/step - loss: 0.1711 - accuracy: 0.9354 - val_loss: 0.2239 - val_accuracy: 0.9177\n",
      "\n",
      "Epoch 00015: val_loss improved from 0.22561 to 0.22394, saving model to my_keras_cnn.h5\n",
      "Epoch 16/20\n",
      "375/375 [==============================] - 6s 16ms/step - loss: 0.1639 - accuracy: 0.9386 - val_loss: 0.2228 - val_accuracy: 0.9202\n",
      "\n",
      "Epoch 00016: val_loss improved from 0.22394 to 0.22281, saving model to my_keras_cnn.h5\n",
      "Epoch 17/20\n",
      "375/375 [==============================] - 6s 16ms/step - loss: 0.1590 - accuracy: 0.9406 - val_loss: 0.2319 - val_accuracy: 0.9158\n",
      "\n",
      "Epoch 00017: val_loss did not improve from 0.22281\n",
      "Epoch 18/20\n",
      "375/375 [==============================] - 6s 16ms/step - loss: 0.1484 - accuracy: 0.9461 - val_loss: 0.2245 - val_accuracy: 0.9197\n",
      "\n",
      "Epoch 00018: val_loss did not improve from 0.22281\n",
      "Epoch 19/20\n",
      "375/375 [==============================] - 6s 16ms/step - loss: 0.1466 - accuracy: 0.9441 - val_loss: 0.2345 - val_accuracy: 0.9208\n",
      "\n",
      "Epoch 00019: val_loss did not improve from 0.22281\n",
      "Epoch 20/20\n",
      "375/375 [==============================] - 6s 16ms/step - loss: 0.1372 - accuracy: 0.9490 - val_loss: 0.2262 - val_accuracy: 0.9211\n",
      "\n",
      "Epoch 00020: val_loss did not improve from 0.22281\n"
     ]
    }
   ],
   "source": [
    "model.compile(optimizer=SGD(0.1), loss='categorical_crossentropy', metrics=['accuracy'])\n",
    "\n",
    "checkpoint_cb = ModelCheckpoint(\"my_keras_cnn.h5\", save_best_only=True, verbose=1)\n",
    "history = model.fit(train_images, train_oh_labels, validation_split=0.2, batch_size=128, epochs=20, verbose=1, callbacks=[checkpoint_cb])"
   ]
  },
  {
   "cell_type": "code",
   "execution_count": 20,
   "metadata": {
    "colab": {
     "base_uri": "https://localhost:8080/"
    },
    "id": "pICazeJcTGqY",
    "outputId": "7dbed2b9-d6f0-4225-f770-9cb3c53ef55f"
   },
   "outputs": [
    {
     "name": "stdout",
     "output_type": "stream",
     "text": [
      "79/79 [==============================] - 1s 7ms/step - loss: 0.2382 - accuracy: 0.9162\n"
     ]
    },
    {
     "data": {
      "text/plain": [
       "[0.23817561566829681, 0.9161999821662903]"
      ]
     },
     "execution_count": 20,
     "metadata": {},
     "output_type": "execute_result"
    }
   ],
   "source": [
    "model = load_model(\"my_keras_cnn.h5\")\n",
    "model.evaluate(test_images, test_oh_labels, batch_size=128)"
   ]
  },
  {
   "cell_type": "code",
   "execution_count": 21,
   "metadata": {
    "id": "fj5noqEQTqaB"
   },
   "outputs": [],
   "source": [
    "input_tensor = Input(shape=(28, 28, 1))\n",
    "x = Conv2D(filters=32, kernel_size=3, strides=1, padding=\"same\", activation=\"relu\")(input_tensor)\n",
    "x = Conv2D(filters=64, kernel_size=3, strides=1, padding=\"same\", activation=\"relu\")(x)\n",
    "x = MaxPooling2D(2)(x)\n",
    "x = Flatten()(x)\n",
    "x = Dense(100, activation='relu')(x)\n",
    "output = Dense(10, activation='softmax')(x)\n",
    "model2 = Model(inputs=input_tensor, outputs=output)"
   ]
  },
  {
   "cell_type": "code",
   "execution_count": 23,
   "metadata": {
    "colab": {
     "base_uri": "https://localhost:8080/"
    },
    "id": "C3I70fZVUWfQ",
    "outputId": "5002def0-b427-42c3-fb3c-678010c46997"
   },
   "outputs": [
    {
     "name": "stdout",
     "output_type": "stream",
     "text": [
      "Epoch 1/20\n",
      "375/375 [==============================] - 7s 17ms/step - loss: 0.4382 - accuracy: 0.8447 - val_loss: 0.3233 - val_accuracy: 0.8861\n",
      "\n",
      "Epoch 00001: val_loss improved from inf to 0.32334, saving model to my_keras_cnn2.h5\n",
      "Epoch 2/20\n",
      "375/375 [==============================] - 6s 16ms/step - loss: 0.2767 - accuracy: 0.8997 - val_loss: 0.2778 - val_accuracy: 0.9007\n",
      "\n",
      "Epoch 00002: val_loss improved from 0.32334 to 0.27779, saving model to my_keras_cnn2.h5\n",
      "Epoch 3/20\n",
      "375/375 [==============================] - 6s 17ms/step - loss: 0.2210 - accuracy: 0.9193 - val_loss: 0.2404 - val_accuracy: 0.9143\n",
      "\n",
      "Epoch 00003: val_loss improved from 0.27779 to 0.24044, saving model to my_keras_cnn2.h5\n",
      "Epoch 4/20\n",
      "375/375 [==============================] - 6s 16ms/step - loss: 0.1802 - accuracy: 0.9346 - val_loss: 0.2248 - val_accuracy: 0.9190\n",
      "\n",
      "Epoch 00004: val_loss improved from 0.24044 to 0.22481, saving model to my_keras_cnn2.h5\n",
      "Epoch 5/20\n",
      "375/375 [==============================] - 6s 16ms/step - loss: 0.1489 - accuracy: 0.9463 - val_loss: 0.2254 - val_accuracy: 0.9210\n",
      "\n",
      "Epoch 00005: val_loss did not improve from 0.22481\n",
      "Epoch 6/20\n",
      "375/375 [==============================] - 6s 16ms/step - loss: 0.1241 - accuracy: 0.9548 - val_loss: 0.2293 - val_accuracy: 0.9201\n",
      "\n",
      "Epoch 00006: val_loss did not improve from 0.22481\n",
      "Epoch 7/20\n",
      "375/375 [==============================] - 6s 16ms/step - loss: 0.0966 - accuracy: 0.9653 - val_loss: 0.2394 - val_accuracy: 0.9218\n",
      "\n",
      "Epoch 00007: val_loss did not improve from 0.22481\n",
      "Epoch 8/20\n",
      "375/375 [==============================] - 6s 16ms/step - loss: 0.0775 - accuracy: 0.9729 - val_loss: 0.2562 - val_accuracy: 0.9243\n",
      "\n",
      "Epoch 00008: val_loss did not improve from 0.22481\n",
      "Epoch 9/20\n",
      "375/375 [==============================] - 6s 16ms/step - loss: 0.0600 - accuracy: 0.9791 - val_loss: 0.2529 - val_accuracy: 0.9256\n",
      "\n",
      "Epoch 00009: val_loss did not improve from 0.22481\n",
      "Epoch 10/20\n",
      "375/375 [==============================] - 6s 17ms/step - loss: 0.0462 - accuracy: 0.9843 - val_loss: 0.2958 - val_accuracy: 0.9236\n",
      "\n",
      "Epoch 00010: val_loss did not improve from 0.22481\n",
      "Epoch 11/20\n",
      "375/375 [==============================] - 6s 16ms/step - loss: 0.0369 - accuracy: 0.9876 - val_loss: 0.3199 - val_accuracy: 0.9228\n",
      "\n",
      "Epoch 00011: val_loss did not improve from 0.22481\n",
      "Epoch 12/20\n",
      "375/375 [==============================] - 6s 16ms/step - loss: 0.0290 - accuracy: 0.9908 - val_loss: 0.3693 - val_accuracy: 0.9202\n",
      "\n",
      "Epoch 00012: val_loss did not improve from 0.22481\n",
      "Epoch 13/20\n",
      "375/375 [==============================] - 6s 16ms/step - loss: 0.0273 - accuracy: 0.9915 - val_loss: 0.3723 - val_accuracy: 0.9187\n",
      "\n",
      "Epoch 00013: val_loss did not improve from 0.22481\n",
      "Epoch 14/20\n",
      "375/375 [==============================] - 6s 16ms/step - loss: 0.0209 - accuracy: 0.9933 - val_loss: 0.3719 - val_accuracy: 0.9207\n",
      "\n",
      "Epoch 00014: val_loss did not improve from 0.22481\n",
      "Epoch 15/20\n",
      "375/375 [==============================] - 6s 16ms/step - loss: 0.0134 - accuracy: 0.9960 - val_loss: 0.4019 - val_accuracy: 0.9244\n",
      "\n",
      "Epoch 00015: val_loss did not improve from 0.22481\n",
      "Epoch 16/20\n",
      "375/375 [==============================] - 6s 16ms/step - loss: 0.0133 - accuracy: 0.9958 - val_loss: 0.4211 - val_accuracy: 0.9177\n",
      "\n",
      "Epoch 00016: val_loss did not improve from 0.22481\n",
      "Epoch 17/20\n",
      "375/375 [==============================] - 6s 16ms/step - loss: 0.0160 - accuracy: 0.9946 - val_loss: 0.4354 - val_accuracy: 0.9201\n",
      "\n",
      "Epoch 00017: val_loss did not improve from 0.22481\n",
      "Epoch 18/20\n",
      "375/375 [==============================] - 6s 16ms/step - loss: 0.0147 - accuracy: 0.9949 - val_loss: 0.4356 - val_accuracy: 0.9211\n",
      "\n",
      "Epoch 00018: val_loss did not improve from 0.22481\n",
      "Epoch 19/20\n",
      "375/375 [==============================] - 6s 16ms/step - loss: 0.0097 - accuracy: 0.9970 - val_loss: 0.4862 - val_accuracy: 0.9137\n",
      "\n",
      "Epoch 00019: val_loss did not improve from 0.22481\n",
      "Epoch 20/20\n",
      "375/375 [==============================] - 6s 16ms/step - loss: 0.0169 - accuracy: 0.9946 - val_loss: 0.5021 - val_accuracy: 0.9172\n",
      "\n",
      "Epoch 00020: val_loss did not improve from 0.22481\n"
     ]
    }
   ],
   "source": [
    "model2.compile(optimizer=Adam(0.001), loss='categorical_crossentropy', metrics=['accuracy'])\n",
    "\n",
    "checkpoint_cb = ModelCheckpoint(\"my_keras_cnn2.h5\", save_best_only=True, verbose=1)\n",
    "history = model2.fit(train_images, train_oh_labels, validation_split=0.2, batch_size=128, epochs=20, verbose=1, callbacks=[checkpoint_cb])"
   ]
  },
  {
   "cell_type": "code",
   "execution_count": 24,
   "metadata": {
    "colab": {
     "base_uri": "https://localhost:8080/"
    },
    "id": "MSeZj0p0UlnL",
    "outputId": "fde552be-ad43-4dd2-81c3-6c04e5641389"
   },
   "outputs": [
    {
     "name": "stdout",
     "output_type": "stream",
     "text": [
      "79/79 [==============================] - 1s 7ms/step - loss: 0.2411 - accuracy: 0.9135\n"
     ]
    },
    {
     "data": {
      "text/plain": [
       "[0.241088405251503, 0.9135000109672546]"
      ]
     },
     "execution_count": 24,
     "metadata": {},
     "output_type": "execute_result"
    }
   ],
   "source": [
    "model2 = load_model(\"my_keras_cnn2.h5\")\n",
    "model2.evaluate(test_images, test_oh_labels, batch_size=128)"
   ]
  },
  {
   "cell_type": "code",
   "execution_count": 25,
   "metadata": {
    "id": "_KxKMtiwVWtF"
   },
   "outputs": [],
   "source": [
    "input_tensor = Input(shape=(28, 28, 1))\n",
    "x = Conv2D(filters=32, kernel_size=3, strides=1, padding=\"same\", activation=\"relu\")(input_tensor)\n",
    "x = Conv2D(filters=64, kernel_size=3, strides=1, padding=\"same\", activation=\"relu\")(x)\n",
    "x = MaxPooling2D(2)(x)\n",
    "x = Flatten()(x)\n",
    "x = Dropout(rate=0.5)(x)\n",
    "x = Dense(100, activation='relu')(x)\n",
    "output = Dense(10, activation='softmax')(x)\n",
    "model2 = Model(inputs=input_tensor, outputs=output)"
   ]
  },
  {
   "cell_type": "code",
   "execution_count": 26,
   "metadata": {
    "colab": {
     "base_uri": "https://localhost:8080/"
    },
    "id": "F-3lkg8VVi2R",
    "outputId": "d432e2f1-02b7-45b5-d6ff-eefa9c9efd8b"
   },
   "outputs": [
    {
     "name": "stdout",
     "output_type": "stream",
     "text": [
      "Epoch 1/20\n",
      "375/375 [==============================] - 7s 18ms/step - loss: 0.4591 - accuracy: 0.8378 - val_loss: 0.3226 - val_accuracy: 0.8850\n",
      "\n",
      "Epoch 00001: val_loss improved from inf to 0.32256, saving model to my_keras_cnn2.h5\n",
      "Epoch 2/20\n",
      "375/375 [==============================] - 6s 17ms/step - loss: 0.2963 - accuracy: 0.8940 - val_loss: 0.2681 - val_accuracy: 0.9047\n",
      "\n",
      "Epoch 00002: val_loss improved from 0.32256 to 0.26813, saving model to my_keras_cnn2.h5\n",
      "Epoch 3/20\n",
      "375/375 [==============================] - 6s 17ms/step - loss: 0.2486 - accuracy: 0.9088 - val_loss: 0.2377 - val_accuracy: 0.9133\n",
      "\n",
      "Epoch 00003: val_loss improved from 0.26813 to 0.23773, saving model to my_keras_cnn2.h5\n",
      "Epoch 4/20\n",
      "375/375 [==============================] - 6s 17ms/step - loss: 0.2189 - accuracy: 0.9196 - val_loss: 0.2296 - val_accuracy: 0.9184\n",
      "\n",
      "Epoch 00004: val_loss improved from 0.23773 to 0.22963, saving model to my_keras_cnn2.h5\n",
      "Epoch 5/20\n",
      "375/375 [==============================] - 6s 17ms/step - loss: 0.1928 - accuracy: 0.9289 - val_loss: 0.2207 - val_accuracy: 0.9211\n",
      "\n",
      "Epoch 00005: val_loss improved from 0.22963 to 0.22071, saving model to my_keras_cnn2.h5\n",
      "Epoch 6/20\n",
      "375/375 [==============================] - 6s 17ms/step - loss: 0.1717 - accuracy: 0.9362 - val_loss: 0.2154 - val_accuracy: 0.9221\n",
      "\n",
      "Epoch 00006: val_loss improved from 0.22071 to 0.21535, saving model to my_keras_cnn2.h5\n",
      "Epoch 7/20\n",
      "375/375 [==============================] - 6s 17ms/step - loss: 0.1532 - accuracy: 0.9433 - val_loss: 0.2108 - val_accuracy: 0.9243\n",
      "\n",
      "Epoch 00007: val_loss improved from 0.21535 to 0.21078, saving model to my_keras_cnn2.h5\n",
      "Epoch 8/20\n",
      "375/375 [==============================] - 6s 17ms/step - loss: 0.1401 - accuracy: 0.9488 - val_loss: 0.2120 - val_accuracy: 0.9254\n",
      "\n",
      "Epoch 00008: val_loss did not improve from 0.21078\n",
      "Epoch 9/20\n",
      "375/375 [==============================] - 6s 17ms/step - loss: 0.1246 - accuracy: 0.9544 - val_loss: 0.2062 - val_accuracy: 0.9270\n",
      "\n",
      "Epoch 00009: val_loss improved from 0.21078 to 0.20624, saving model to my_keras_cnn2.h5\n",
      "Epoch 10/20\n",
      "375/375 [==============================] - 6s 17ms/step - loss: 0.1138 - accuracy: 0.9582 - val_loss: 0.2211 - val_accuracy: 0.9252\n",
      "\n",
      "Epoch 00010: val_loss did not improve from 0.20624\n",
      "Epoch 11/20\n",
      "375/375 [==============================] - 6s 17ms/step - loss: 0.1012 - accuracy: 0.9630 - val_loss: 0.2355 - val_accuracy: 0.9250\n",
      "\n",
      "Epoch 00011: val_loss did not improve from 0.20624\n",
      "Epoch 12/20\n",
      "375/375 [==============================] - 6s 17ms/step - loss: 0.0879 - accuracy: 0.9678 - val_loss: 0.2244 - val_accuracy: 0.9262\n",
      "\n",
      "Epoch 00012: val_loss did not improve from 0.20624\n",
      "Epoch 13/20\n",
      "375/375 [==============================] - 6s 17ms/step - loss: 0.0803 - accuracy: 0.9696 - val_loss: 0.2485 - val_accuracy: 0.9244\n",
      "\n",
      "Epoch 00013: val_loss did not improve from 0.20624\n",
      "Epoch 14/20\n",
      "375/375 [==============================] - 6s 17ms/step - loss: 0.0758 - accuracy: 0.9723 - val_loss: 0.2372 - val_accuracy: 0.9263\n",
      "\n",
      "Epoch 00014: val_loss did not improve from 0.20624\n",
      "Epoch 15/20\n",
      "375/375 [==============================] - 6s 17ms/step - loss: 0.0686 - accuracy: 0.9745 - val_loss: 0.2424 - val_accuracy: 0.9292\n",
      "\n",
      "Epoch 00015: val_loss did not improve from 0.20624\n",
      "Epoch 16/20\n",
      "375/375 [==============================] - 6s 17ms/step - loss: 0.0617 - accuracy: 0.9773 - val_loss: 0.2563 - val_accuracy: 0.9276\n",
      "\n",
      "Epoch 00016: val_loss did not improve from 0.20624\n",
      "Epoch 17/20\n",
      "375/375 [==============================] - 6s 17ms/step - loss: 0.0555 - accuracy: 0.9793 - val_loss: 0.2610 - val_accuracy: 0.9289\n",
      "\n",
      "Epoch 00017: val_loss did not improve from 0.20624\n",
      "Epoch 18/20\n",
      "375/375 [==============================] - 6s 17ms/step - loss: 0.0508 - accuracy: 0.9810 - val_loss: 0.2647 - val_accuracy: 0.9275\n",
      "\n",
      "Epoch 00018: val_loss did not improve from 0.20624\n",
      "Epoch 19/20\n",
      "375/375 [==============================] - 6s 17ms/step - loss: 0.0479 - accuracy: 0.9822 - val_loss: 0.2690 - val_accuracy: 0.9269\n",
      "\n",
      "Epoch 00019: val_loss did not improve from 0.20624\n",
      "Epoch 20/20\n",
      "375/375 [==============================] - 6s 17ms/step - loss: 0.0427 - accuracy: 0.9843 - val_loss: 0.2829 - val_accuracy: 0.9279\n",
      "\n",
      "Epoch 00020: val_loss did not improve from 0.20624\n"
     ]
    }
   ],
   "source": [
    "model2.compile(optimizer=Adam(0.001), loss='categorical_crossentropy', metrics=['accuracy'])\n",
    "\n",
    "checkpoint_cb = ModelCheckpoint(\"my_keras_cnn2.h5\", save_best_only=True, verbose=1)\n",
    "history = model2.fit(train_images, train_oh_labels, validation_split=0.2, batch_size=128, epochs=20, verbose=1, callbacks=[checkpoint_cb])"
   ]
  },
  {
   "cell_type": "code",
   "execution_count": 27,
   "metadata": {
    "colab": {
     "base_uri": "https://localhost:8080/"
    },
    "id": "hMx096bOWQ2L",
    "outputId": "9fa4bf73-a4ab-4a49-b855-2163800125f6"
   },
   "outputs": [
    {
     "name": "stdout",
     "output_type": "stream",
     "text": [
      "79/79 [==============================] - 1s 8ms/step - loss: 0.2245 - accuracy: 0.9224\n"
     ]
    },
    {
     "data": {
      "text/plain": [
       "[0.22454196214675903, 0.9223999977111816]"
      ]
     },
     "execution_count": 27,
     "metadata": {},
     "output_type": "execute_result"
    }
   ],
   "source": [
    "model2 = load_model(\"my_keras_cnn2.h5\")\n",
    "model2.evaluate(test_images, test_oh_labels, batch_size=128)"
   ]
  },
  {
   "cell_type": "code",
   "execution_count": 42,
   "metadata": {
    "colab": {
     "base_uri": "https://localhost:8080/"
    },
    "id": "6dYGkn-AWRXh",
    "outputId": "afc1c6ad-ebc2-4340-af10-2db06dbaba48"
   },
   "outputs": [
    {
     "name": "stdout",
     "output_type": "stream",
     "text": [
      "Model: \"model\"\n",
      "_________________________________________________________________\n",
      "Layer (type)                 Output Shape              Param #   \n",
      "=================================================================\n",
      "input_1 (InputLayer)         [(None, 28, 28, 1)]       0         \n",
      "_________________________________________________________________\n",
      "conv2d (Conv2D)              (None, 28, 28, 32)        320       \n",
      "_________________________________________________________________\n",
      "conv2d_1 (Conv2D)            (None, 28, 28, 64)        18496     \n",
      "_________________________________________________________________\n",
      "max_pooling2d (MaxPooling2D) (None, 14, 14, 64)        0         \n",
      "_________________________________________________________________\n",
      "flatten (Flatten)            (None, 12544)             0         \n",
      "_________________________________________________________________\n",
      "dropout (Dropout)            (None, 12544)             0         \n",
      "_________________________________________________________________\n",
      "dense (Dense)                (None, 200)               2509000   \n",
      "_________________________________________________________________\n",
      "dropout_1 (Dropout)          (None, 200)               0         \n",
      "_________________________________________________________________\n",
      "dense_1 (Dense)              (None, 100)               20100     \n",
      "_________________________________________________________________\n",
      "dropout_2 (Dropout)          (None, 100)               0         \n",
      "_________________________________________________________________\n",
      "dense_2 (Dense)              (None, 10)                1010      \n",
      "=================================================================\n",
      "Total params: 2,548,926\n",
      "Trainable params: 2,548,926\n",
      "Non-trainable params: 0\n",
      "_________________________________________________________________\n"
     ]
    }
   ],
   "source": [
    "clear_session()\n",
    "input_tensor = Input(shape=(28, 28, 1))\n",
    "x = Conv2D(filters=32, kernel_size=3, strides=1, padding=\"same\", activation=\"relu\")(input_tensor)\n",
    "x = Conv2D(filters=64, kernel_size=3, strides=1, padding=\"same\", activation=\"relu\")(x)\n",
    "x = MaxPooling2D(2)(x)\n",
    "x = Flatten()(x)\n",
    "x = Dropout(rate=0.5)(x)\n",
    "x = Dense(200, activation='relu')(x)\n",
    "x = Dropout(rate=0.3)(x)\n",
    "x = Dense(100, activation='relu')(x)\n",
    "x = Dropout(rate=0.2)(x)\n",
    "output = Dense(10, activation='softmax')(x)\n",
    "model3 = Model(inputs=input_tensor, outputs=output)\n",
    "model3.summary()"
   ]
  },
  {
   "cell_type": "code",
   "execution_count": 35,
   "metadata": {
    "colab": {
     "base_uri": "https://localhost:8080/"
    },
    "id": "wBESdVRMWdoo",
    "outputId": "2dfb3102-1c08-4da3-ec85-82f112d87b11"
   },
   "outputs": [
    {
     "name": "stdout",
     "output_type": "stream",
     "text": [
      "Epoch 1/20\n",
      "375/375 [==============================] - 8s 19ms/step - loss: 0.1305 - accuracy: 0.9524 - val_loss: 0.2124 - val_accuracy: 0.9287\n",
      "\n",
      "Epoch 00001: val_loss improved from inf to 0.21236, saving model to my_keras_cnn3.h5\n",
      "Epoch 2/20\n",
      "375/375 [==============================] - 7s 19ms/step - loss: 0.1196 - accuracy: 0.9555 - val_loss: 0.2029 - val_accuracy: 0.9326\n",
      "\n",
      "Epoch 00002: val_loss improved from 0.21236 to 0.20290, saving model to my_keras_cnn3.h5\n",
      "Epoch 3/20\n",
      "375/375 [==============================] - 7s 19ms/step - loss: 0.1098 - accuracy: 0.9592 - val_loss: 0.2028 - val_accuracy: 0.9325\n",
      "\n",
      "Epoch 00003: val_loss improved from 0.20290 to 0.20284, saving model to my_keras_cnn3.h5\n",
      "Epoch 4/20\n",
      "375/375 [==============================] - 7s 19ms/step - loss: 0.1041 - accuracy: 0.9618 - val_loss: 0.2001 - val_accuracy: 0.9352\n",
      "\n",
      "Epoch 00004: val_loss improved from 0.20284 to 0.20012, saving model to my_keras_cnn3.h5\n",
      "Epoch 5/20\n",
      "375/375 [==============================] - 7s 19ms/step - loss: 0.0941 - accuracy: 0.9654 - val_loss: 0.2131 - val_accuracy: 0.9317\n",
      "\n",
      "Epoch 00005: val_loss did not improve from 0.20012\n",
      "Epoch 6/20\n",
      "375/375 [==============================] - 7s 19ms/step - loss: 0.0923 - accuracy: 0.9662 - val_loss: 0.2095 - val_accuracy: 0.9352\n",
      "\n",
      "Epoch 00006: val_loss did not improve from 0.20012\n",
      "Epoch 7/20\n",
      "375/375 [==============================] - 7s 19ms/step - loss: 0.0864 - accuracy: 0.9680 - val_loss: 0.2279 - val_accuracy: 0.9327\n",
      "\n",
      "Epoch 00007: val_loss did not improve from 0.20012\n",
      "Epoch 8/20\n",
      "375/375 [==============================] - 7s 19ms/step - loss: 0.0811 - accuracy: 0.9703 - val_loss: 0.2173 - val_accuracy: 0.9342\n",
      "\n",
      "Epoch 00008: val_loss did not improve from 0.20012\n",
      "Epoch 9/20\n",
      "375/375 [==============================] - 7s 19ms/step - loss: 0.0770 - accuracy: 0.9714 - val_loss: 0.2262 - val_accuracy: 0.9346\n",
      "\n",
      "Epoch 00009: val_loss did not improve from 0.20012\n",
      "Epoch 10/20\n",
      "375/375 [==============================] - 7s 18ms/step - loss: 0.0734 - accuracy: 0.9734 - val_loss: 0.2238 - val_accuracy: 0.9332\n",
      "\n",
      "Epoch 00010: val_loss did not improve from 0.20012\n",
      "Epoch 11/20\n",
      "375/375 [==============================] - 7s 18ms/step - loss: 0.0693 - accuracy: 0.9752 - val_loss: 0.2235 - val_accuracy: 0.9327\n",
      "\n",
      "Epoch 00011: val_loss did not improve from 0.20012\n",
      "Epoch 12/20\n",
      "375/375 [==============================] - 7s 19ms/step - loss: 0.0674 - accuracy: 0.9758 - val_loss: 0.2296 - val_accuracy: 0.9317\n",
      "\n",
      "Epoch 00012: val_loss did not improve from 0.20012\n",
      "Epoch 13/20\n",
      "375/375 [==============================] - 7s 18ms/step - loss: 0.0639 - accuracy: 0.9768 - val_loss: 0.2375 - val_accuracy: 0.9357\n",
      "\n",
      "Epoch 00013: val_loss did not improve from 0.20012\n",
      "Epoch 14/20\n",
      "375/375 [==============================] - 7s 19ms/step - loss: 0.0625 - accuracy: 0.9771 - val_loss: 0.2474 - val_accuracy: 0.9334\n",
      "\n",
      "Epoch 00014: val_loss did not improve from 0.20012\n",
      "Epoch 15/20\n",
      "375/375 [==============================] - 7s 19ms/step - loss: 0.0565 - accuracy: 0.9785 - val_loss: 0.2710 - val_accuracy: 0.9305\n",
      "\n",
      "Epoch 00015: val_loss did not improve from 0.20012\n",
      "Epoch 16/20\n",
      "375/375 [==============================] - 7s 18ms/step - loss: 0.0582 - accuracy: 0.9783 - val_loss: 0.2528 - val_accuracy: 0.9314\n",
      "\n",
      "Epoch 00016: val_loss did not improve from 0.20012\n",
      "Epoch 17/20\n",
      "375/375 [==============================] - 7s 19ms/step - loss: 0.0568 - accuracy: 0.9796 - val_loss: 0.2527 - val_accuracy: 0.9326\n",
      "\n",
      "Epoch 00017: val_loss did not improve from 0.20012\n",
      "Epoch 18/20\n",
      "375/375 [==============================] - 7s 19ms/step - loss: 0.0570 - accuracy: 0.9791 - val_loss: 0.2540 - val_accuracy: 0.9298\n",
      "\n",
      "Epoch 00018: val_loss did not improve from 0.20012\n",
      "Epoch 19/20\n",
      "375/375 [==============================] - 7s 19ms/step - loss: 0.0519 - accuracy: 0.9808 - val_loss: 0.2657 - val_accuracy: 0.9331\n",
      "\n",
      "Epoch 00019: val_loss did not improve from 0.20012\n",
      "Epoch 20/20\n",
      "375/375 [==============================] - 7s 18ms/step - loss: 0.0529 - accuracy: 0.9811 - val_loss: 0.2681 - val_accuracy: 0.9323\n",
      "\n",
      "Epoch 00020: val_loss did not improve from 0.20012\n"
     ]
    }
   ],
   "source": [
    "model3.compile(optimizer=Adam(0.001), loss='categorical_crossentropy', metrics=['accuracy'])\n",
    "\n",
    "checkpoint_cb = ModelCheckpoint(\"my_keras_cnn3.h5\", save_best_only=True, verbose=1)\n",
    "history = model3.fit(train_images, train_oh_labels, validation_split=0.2, batch_size=128, epochs=20, verbose=1, callbacks=[checkpoint_cb])"
   ]
  },
  {
   "cell_type": "code",
   "execution_count": 36,
   "metadata": {
    "colab": {
     "base_uri": "https://localhost:8080/"
    },
    "id": "3ACdwaCmWlYP",
    "outputId": "b2777505-33f2-4532-c26c-44cdd9f16cbf"
   },
   "outputs": [
    {
     "name": "stdout",
     "output_type": "stream",
     "text": [
      "79/79 [==============================] - 1s 7ms/step - loss: 0.2254 - accuracy: 0.9315\n"
     ]
    },
    {
     "data": {
      "text/plain": [
       "[0.22543717920780182, 0.9315000176429749]"
      ]
     },
     "execution_count": 36,
     "metadata": {},
     "output_type": "execute_result"
    }
   ],
   "source": [
    "model3 = load_model(\"my_keras_cnn3.h5\")\n",
    "model3.evaluate(test_images, test_oh_labels, batch_size=128)"
   ]
  },
  {
   "cell_type": "code",
   "execution_count": 37,
   "metadata": {
    "colab": {
     "base_uri": "https://localhost:8080/",
     "height": 282
    },
    "id": "Cdf9ckBuXM9M",
    "outputId": "9fe5cbd1-0665-410d-a17e-a4089a8bf851"
   },
   "outputs": [
    {
     "data": {
      "text/plain": [
       "<matplotlib.legend.Legend at 0x7fea4eaf2710>"
      ]
     },
     "execution_count": 37,
     "metadata": {},
     "output_type": "execute_result"
    },
    {
     "data": {
      "image/png": "[encoded data removed]",
      "text/plain": [
       "<Figure size 432x288 with 1 Axes>"
      ]
     },
     "metadata": {
      "needs_background": "light"
     },
     "output_type": "display_data"
    }
   ],
   "source": [
    "plt.plot(history.history['accuracy'], label='train')\n",
    "plt.plot(history.history['val_accuracy'], label='valid')\n",
    "plt.legend()"
   ]
  }
 ],
 "metadata": {
  "accelerator": "GPU",
  "colab": {
   "collapsed_sections": [],
   "name": "Deep Learning(0910_day6) - CNN.ipynb",
   "provenance": []
  },
  "kernelspec": {
   "display_name": "Python 3",
   "language": "python",
   "name": "python3"
  },
  "language_info": {
   "codemirror_mode": {
    "name": "ipython",
    "version": 3
   },
   "file_extension": ".py",
   "mimetype": "text/x-python",
   "name": "python",
   "nbconvert_exporter": "python",
   "pygments_lexer": "ipython3",
   "version": "3.8.8"
  }
 },
 "nbformat": 4,
 "nbformat_minor": 1
}
