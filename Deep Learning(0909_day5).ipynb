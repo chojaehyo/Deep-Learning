{
 "cells": [
  {
   "cell_type": "markdown",
   "id": "eee16416",
   "metadata": {},
   "source": [
    "## Fashion MNIST Dataset 신경망 훈련"
   ]
  },
  {
   "cell_type": "markdown",
   "id": "14a3ebb6",
   "metadata": {},
   "source": [
    "### import"
   ]
  },
  {
   "cell_type": "code",
   "execution_count": 1,
   "id": "d98b2554",
   "metadata": {},
   "outputs": [],
   "source": [
    "import matplotlib.pyplot as plt\n",
    "import numpy as np\n",
    "import tensorflow as tf\n",
    "from tensorflow.keras.datasets import fashion_mnist\n",
    "from tensorflow.keras.utils import to_categorical"
   ]
  },
  {
   "cell_type": "code",
   "execution_count": 34,
   "id": "8b9a32c9",
   "metadata": {},
   "outputs": [],
   "source": [
    "np.random.seed(42)\n",
    "tf.random.set_seed(42)"
   ]
  },
  {
   "cell_type": "code",
   "execution_count": 35,
   "id": "21ab3d04",
   "metadata": {},
   "outputs": [],
   "source": [
    "(train_images, train_labels), (test_images, test_labels) = fashion_mnist.load_data()"
   ]
  },
  {
   "cell_type": "code",
   "execution_count": 36,
   "id": "a48b9d82",
   "metadata": {},
   "outputs": [
    {
     "data": {
      "text/plain": [
       "((60000, 28, 28), (10000, 28, 28))"
      ]
     },
     "execution_count": 36,
     "metadata": {},
     "output_type": "execute_result"
    }
   ],
   "source": [
    "train_images.shape, test_images.shape"
   ]
  },
  {
   "cell_type": "code",
   "execution_count": 37,
   "id": "13203a1f",
   "metadata": {},
   "outputs": [
    {
     "data": {
      "image/png": "[encoded data removed]",
      "text/plain": [
       "<Figure size 1584x432 with 8 Axes>"
      ]
     },
     "metadata": {
      "needs_background": "light"
     },
     "output_type": "display_data"
    }
   ],
   "source": [
    "class_names = ['T-shirt/top', 'Trouser', 'Pullover', 'Dress', 'Coat','Sandal', 'Shirt', 'Sneaker', 'Bag', 'Ankle boot']\n",
    "\n",
    "figure, axes = plt.subplots(figsize=(22, 6), nrows=1, ncols=8)\n",
    "for i in range(8):\n",
    "    axes[i].imshow(train_images[i], cmap=\"gray\")\n",
    "    axes[i].set_title(class_names[train_labels[i]])"
   ]
  },
  {
   "cell_type": "code",
   "execution_count": 38,
   "id": "ec659e94",
   "metadata": {},
   "outputs": [],
   "source": [
    "train_images = np.array(train_images/255.0, dtype=np.float32)\n",
    "train_labels = np.array(train_labels, dtype=np.float32)\n",
    "test_images = np.array(test_images/255.0, dtype=np.float32)\n",
    "test_labels = np.array(test_labels, dtype=np.float32)\n",
    "\n",
    "train_oh_labels = to_categorical(train_labels)\n",
    "test_oh_labels = to_categorical(test_labels)"
   ]
  },
  {
   "cell_type": "markdown",
   "id": "69de3917",
   "metadata": {},
   "source": [
    "### 모델 생성"
   ]
  },
  {
   "cell_type": "markdown",
   "id": "83ba4795",
   "metadata": {},
   "source": [
    "* Sequential API<br>\n",
    "- 입력층이 따로 필요없음<br>\n",
    "- 직관적이고 편리하지만 복잡한 모델 구현하는데 한계가 있음<br>"
   ]
  },
  {
   "cell_type": "code",
   "execution_count": null,
   "id": "541ac8bb",
   "metadata": {},
   "outputs": [],
   "source": [
    "from tensorflow.keras.models import Sequential\n",
    "\n",
    "model = Sequential([\n",
    "    Flatten(input_shape=(28, 28)),\n",
    "    Dense(50, activation='sigmoid'),\n",
    "    Dense(10, activation='softmax')    \n",
    "])\n",
    "\n",
    "model.summary()"
   ]
  },
  {
   "cell_type": "markdown",
   "id": "f48f2e65",
   "metadata": {},
   "source": [
    "* 함수형 API(Functional API)<br>\n",
    "- 입력층이 따로 정의<br>\n",
    "- 이전층이 다음층의 입력으로 사용됨<br>\n",
    "- 각 층을 일종의 함수로 정의<br>\n",
    "- 확장성이 좋음(다중 입출력 등 복잡한 모델 구현 가능)<br>"
   ]
  },
  {
   "cell_type": "code",
   "execution_count": 10,
   "id": "34008b6f",
   "metadata": {},
   "outputs": [],
   "source": [
    "from tensorflow.keras.models import Model\n",
    "from tensorflow.keras.layers import Input, Flatten, Dense"
   ]
  },
  {
   "cell_type": "code",
   "execution_count": 39,
   "id": "847bf6c2",
   "metadata": {},
   "outputs": [],
   "source": [
    "input_tensor = Input(shape=(28, 28))\n",
    "x = Flatten()(input_tensor) # 객체 만들고 함수 호출하는 방식\n",
    "x = Dense(50, activation='sigmoid')(x)\n",
    "output = Dense(10, activation='softmax')(x)\n",
    "\n",
    "model = Model(inputs=input_tensor, outputs=output)"
   ]
  },
  {
   "cell_type": "markdown",
   "id": "324373af",
   "metadata": {},
   "source": [
    "### 모델 컴파일(optimizer, loss등 설정)"
   ]
  },
  {
   "cell_type": "code",
   "execution_count": 12,
   "id": "2487e1b2",
   "metadata": {},
   "outputs": [],
   "source": [
    "from tensorflow.keras.optimizers import SGD"
   ]
  },
  {
   "cell_type": "code",
   "execution_count": 40,
   "id": "b8db74ae",
   "metadata": {},
   "outputs": [],
   "source": [
    "model.compile(optimizer=SGD(0.1), loss='categorical_crossentropy', metrics=['accuracy'])"
   ]
  },
  {
   "cell_type": "markdown",
   "id": "b6530cfd",
   "metadata": {},
   "source": [
    "### 모델 학습"
   ]
  },
  {
   "cell_type": "markdown",
   "id": "5831e670",
   "metadata": {},
   "source": [
    "* Callback - ModelCheckpoint"
   ]
  },
  {
   "cell_type": "code",
   "execution_count": 62,
   "id": "a86443c3",
   "metadata": {},
   "outputs": [],
   "source": [
    "from tensorflow.keras.callbacks import ModelCheckpoint, EarlyStopping, ReduceLROnPlateau"
   ]
  },
  {
   "cell_type": "code",
   "execution_count": 49,
   "id": "de048457",
   "metadata": {},
   "outputs": [],
   "source": [
    "checkpoint_cb = ModelCheckpoint(\"my_keras_model.h5\", save_best_only=True, verbose=1)\n",
    "# checkpoint_cb = ModelCheckpoint(\"weights.{epoch:02d}-{val_loss:.2f}.h5\", save_best_only=True, verbose=1)"
   ]
  },
  {
   "cell_type": "code",
   "execution_count": 50,
   "id": "a4427f07",
   "metadata": {},
   "outputs": [
    {
     "name": "stdout",
     "output_type": "stream",
     "text": [
      "Epoch 1/20\n",
      "371/375 [============================>.] - ETA: 0s - loss: 0.2970 - accuracy: 0.8946\n",
      "Epoch 00001: val_loss improved from inf to 0.34598, saving model to my_keras_model.h5\n",
      "375/375 [==============================] - 1s 3ms/step - loss: 0.2974 - accuracy: 0.8943 - val_loss: 0.3460 - val_accuracy: 0.8780\n",
      "Epoch 2/20\n",
      "374/375 [============================>.] - ETA: 0s - loss: 0.2961 - accuracy: 0.8956\n",
      "Epoch 00002: val_loss improved from 0.34598 to 0.34355, saving model to my_keras_model.h5\n",
      "375/375 [==============================] - 1s 2ms/step - loss: 0.2963 - accuracy: 0.8956 - val_loss: 0.3436 - val_accuracy: 0.8767\n",
      "Epoch 3/20\n",
      "373/375 [============================>.] - ETA: 0s - loss: 0.2949 - accuracy: 0.8951\n",
      "Epoch 00003: val_loss improved from 0.34355 to 0.34073, saving model to my_keras_model.h5\n",
      "375/375 [==============================] - 1s 3ms/step - loss: 0.2947 - accuracy: 0.8952 - val_loss: 0.3407 - val_accuracy: 0.8782\n",
      "Epoch 4/20\n",
      "366/375 [============================>.] - ETA: 0s - loss: 0.2931 - accuracy: 0.8969\n",
      "Epoch 00004: val_loss improved from 0.34073 to 0.33938, saving model to my_keras_model.h5\n",
      "375/375 [==============================] - 1s 3ms/step - loss: 0.2942 - accuracy: 0.8965 - val_loss: 0.3394 - val_accuracy: 0.8787\n",
      "Epoch 5/20\n",
      "353/375 [===========================>..] - ETA: 0s - loss: 0.2926 - accuracy: 0.8954\n",
      "Epoch 00005: val_loss did not improve from 0.33938\n",
      "375/375 [==============================] - 1s 2ms/step - loss: 0.2926 - accuracy: 0.8957 - val_loss: 0.3470 - val_accuracy: 0.8767\n",
      "Epoch 6/20\n",
      "363/375 [============================>.] - ETA: 0s - loss: 0.2917 - accuracy: 0.8960\n",
      "Epoch 00006: val_loss improved from 0.33938 to 0.33850, saving model to my_keras_model.h5\n",
      "375/375 [==============================] - 1s 2ms/step - loss: 0.2917 - accuracy: 0.8960 - val_loss: 0.3385 - val_accuracy: 0.8779\n",
      "Epoch 7/20\n",
      "359/375 [===========================>..] - ETA: 0s - loss: 0.2893 - accuracy: 0.8981\n",
      "Epoch 00007: val_loss did not improve from 0.33850\n",
      "375/375 [==============================] - 1s 2ms/step - loss: 0.2907 - accuracy: 0.8975 - val_loss: 0.3390 - val_accuracy: 0.8808\n",
      "Epoch 8/20\n",
      "371/375 [============================>.] - ETA: 0s - loss: 0.2908 - accuracy: 0.8968\n",
      "Epoch 00008: val_loss did not improve from 0.33850\n",
      "375/375 [==============================] - 1s 2ms/step - loss: 0.2905 - accuracy: 0.8968 - val_loss: 0.3402 - val_accuracy: 0.8789\n",
      "Epoch 9/20\n",
      "373/375 [============================>.] - ETA: 0s - loss: 0.2874 - accuracy: 0.8988\n",
      "Epoch 00009: val_loss did not improve from 0.33850\n",
      "375/375 [==============================] - 1s 2ms/step - loss: 0.2877 - accuracy: 0.8988 - val_loss: 0.3399 - val_accuracy: 0.8780\n",
      "Epoch 10/20\n",
      "373/375 [============================>.] - ETA: 0s - loss: 0.2872 - accuracy: 0.8976\n",
      "Epoch 00010: val_loss did not improve from 0.33850\n",
      "375/375 [==============================] - 1s 2ms/step - loss: 0.2873 - accuracy: 0.8976 - val_loss: 0.3390 - val_accuracy: 0.8806\n",
      "Epoch 11/20\n",
      "360/375 [===========================>..] - ETA: 0s - loss: 0.2863 - accuracy: 0.8988\n",
      "Epoch 00011: val_loss improved from 0.33850 to 0.33691, saving model to my_keras_model.h5\n",
      "375/375 [==============================] - 1s 2ms/step - loss: 0.2860 - accuracy: 0.8986 - val_loss: 0.3369 - val_accuracy: 0.8792\n",
      "Epoch 12/20\n",
      "369/375 [============================>.] - ETA: 0s - loss: 0.2847 - accuracy: 0.8990\n",
      "Epoch 00012: val_loss did not improve from 0.33691\n",
      "375/375 [==============================] - 1s 2ms/step - loss: 0.2851 - accuracy: 0.8991 - val_loss: 0.3378 - val_accuracy: 0.8795\n",
      "Epoch 13/20\n",
      "356/375 [===========================>..] - ETA: 0s - loss: 0.2839 - accuracy: 0.8988 ETA: 0s - loss: 0.2845 - \n",
      "Epoch 00013: val_loss did not improve from 0.33691\n",
      "375/375 [==============================] - 1s 2ms/step - loss: 0.2840 - accuracy: 0.8991 - val_loss: 0.3408 - val_accuracy: 0.8788\n",
      "Epoch 14/20\n",
      "361/375 [===========================>..] - ETA: 0s - loss: 0.2823 - accuracy: 0.8988 ETA: 0s - loss: 0.2809 - accuracy: 0.\n",
      "Epoch 00014: val_loss improved from 0.33691 to 0.33617, saving model to my_keras_model.h5\n",
      "375/375 [==============================] - 1s 2ms/step - loss: 0.2829 - accuracy: 0.8985 - val_loss: 0.3362 - val_accuracy: 0.8808\n",
      "Epoch 15/20\n",
      "361/375 [===========================>..] - ETA: 0s - loss: 0.2808 - accuracy: 0.9004\n",
      "Epoch 00015: val_loss did not improve from 0.33617\n",
      "375/375 [==============================] - 1s 2ms/step - loss: 0.2820 - accuracy: 0.8997 - val_loss: 0.3374 - val_accuracy: 0.8796\n",
      "Epoch 16/20\n",
      "361/375 [===========================>..] - ETA: 0s - loss: 0.2807 - accuracy: 0.8998\n",
      "Epoch 00016: val_loss improved from 0.33617 to 0.33496, saving model to my_keras_model.h5\n",
      "375/375 [==============================] - 1s 2ms/step - loss: 0.2808 - accuracy: 0.9000 - val_loss: 0.3350 - val_accuracy: 0.8816\n",
      "Epoch 17/20\n",
      "361/375 [===========================>..] - ETA: 0s - loss: 0.2798 - accuracy: 0.9011\n",
      "Epoch 00017: val_loss did not improve from 0.33496\n",
      "375/375 [==============================] - 1s 2ms/step - loss: 0.2798 - accuracy: 0.9008 - val_loss: 0.3365 - val_accuracy: 0.8802\n",
      "Epoch 18/20\n",
      "357/375 [===========================>..] - ETA: 0s - loss: 0.2792 - accuracy: 0.9003\n",
      "Epoch 00018: val_loss improved from 0.33496 to 0.33446, saving model to my_keras_model.h5\n",
      "375/375 [==============================] - 1s 2ms/step - loss: 0.2788 - accuracy: 0.9005 - val_loss: 0.3345 - val_accuracy: 0.8798\n",
      "Epoch 19/20\n",
      "365/375 [============================>.] - ETA: 0s - loss: 0.2774 - accuracy: 0.9012\n",
      "Epoch 00019: val_loss improved from 0.33446 to 0.33341, saving model to my_keras_model.h5\n",
      "375/375 [==============================] - 1s 2ms/step - loss: 0.2773 - accuracy: 0.9010 - val_loss: 0.3334 - val_accuracy: 0.8802\n",
      "Epoch 20/20\n",
      "368/375 [============================>.] - ETA: 0s - loss: 0.2766 - accuracy: 0.9016\n",
      "Epoch 00020: val_loss did not improve from 0.33341\n",
      "375/375 [==============================] - 1s 2ms/step - loss: 0.2766 - accuracy: 0.9016 - val_loss: 0.3380 - val_accuracy: 0.8793\n"
     ]
    }
   ],
   "source": [
    "history = model.fit(train_images, train_oh_labels, validation_split=0.2, batch_size=128, epochs=20, verbose=1, callbacks=[checkpoint_cb])"
   ]
  },
  {
   "cell_type": "code",
   "execution_count": 51,
   "id": "c1e042fb",
   "metadata": {},
   "outputs": [
    {
     "name": "stdout",
     "output_type": "stream",
     "text": [
      "79/79 [==============================] - 0s 2ms/step - loss: 0.3620 - accuracy: 0.8699\n"
     ]
    },
    {
     "data": {
      "text/plain": [
       "[0.36198118329048157, 0.8698999881744385]"
      ]
     },
     "execution_count": 51,
     "metadata": {},
     "output_type": "execute_result"
    }
   ],
   "source": [
    "model.evaluate(test_images, test_oh_labels, batch_size=128)"
   ]
  },
  {
   "cell_type": "code",
   "execution_count": 21,
   "id": "f594d2fa",
   "metadata": {},
   "outputs": [],
   "source": [
    "from tensorflow.keras.models import load_model"
   ]
  },
  {
   "cell_type": "code",
   "execution_count": 52,
   "id": "f497b9be",
   "metadata": {},
   "outputs": [],
   "source": [
    "model2 = load_model(\"my_keras_model.h5\")"
   ]
  },
  {
   "cell_type": "code",
   "execution_count": 53,
   "id": "67a02100",
   "metadata": {},
   "outputs": [
    {
     "name": "stdout",
     "output_type": "stream",
     "text": [
      "79/79 [==============================] - 0s 2ms/step - loss: 0.3582 - accuracy: 0.8727\n"
     ]
    },
    {
     "data": {
      "text/plain": [
       "[0.3582404553890228, 0.8726999759674072]"
      ]
     },
     "execution_count": 53,
     "metadata": {},
     "output_type": "execute_result"
    }
   ],
   "source": [
    "model2.evaluate(test_images, test_oh_labels, batch_size=128)"
   ]
  },
  {
   "cell_type": "markdown",
   "id": "e9449f9e",
   "metadata": {},
   "source": [
    "* Callback - EarlyStopping"
   ]
  },
  {
   "cell_type": "code",
   "execution_count": 70,
   "id": "1bba9650",
   "metadata": {},
   "outputs": [],
   "source": [
    "early_stopping_cb = EarlyStopping(patience=20, restore_best_weights=True)"
   ]
  },
  {
   "cell_type": "code",
   "execution_count": 60,
   "id": "1e9402dc",
   "metadata": {},
   "outputs": [
    {
     "name": "stdout",
     "output_type": "stream",
     "text": [
      "Epoch 1/50\n",
      "375/375 [==============================] - 1s 3ms/step - loss: 0.2336 - accuracy: 0.9164 - val_loss: 0.3300 - val_accuracy: 0.8822\n",
      "Epoch 2/50\n",
      "375/375 [==============================] - 1s 2ms/step - loss: 0.2329 - accuracy: 0.9175 - val_loss: 0.3281 - val_accuracy: 0.8816\n",
      "Epoch 3/50\n",
      "375/375 [==============================] - 1s 2ms/step - loss: 0.2321 - accuracy: 0.9168 - val_loss: 0.3242 - val_accuracy: 0.8837\n",
      "Epoch 4/50\n",
      "375/375 [==============================] - 1s 2ms/step - loss: 0.2320 - accuracy: 0.9181 - val_loss: 0.3251 - val_accuracy: 0.8845\n",
      "Epoch 5/50\n",
      "375/375 [==============================] - 1s 2ms/step - loss: 0.2311 - accuracy: 0.9181 - val_loss: 0.3333 - val_accuracy: 0.8846\n",
      "Epoch 6/50\n",
      "375/375 [==============================] - 1s 2ms/step - loss: 0.2308 - accuracy: 0.9182 - val_loss: 0.3242 - val_accuracy: 0.8853\n",
      "Epoch 7/50\n",
      "375/375 [==============================] - 1s 2ms/step - loss: 0.2305 - accuracy: 0.9177 - val_loss: 0.3249 - val_accuracy: 0.8852\n",
      "Epoch 8/50\n",
      "375/375 [==============================] - 1s 2ms/step - loss: 0.2305 - accuracy: 0.9180 - val_loss: 0.3296 - val_accuracy: 0.8838\n",
      "Epoch 9/50\n",
      "375/375 [==============================] - 1s 2ms/step - loss: 0.2280 - accuracy: 0.9203 - val_loss: 0.3279 - val_accuracy: 0.8845\n",
      "Epoch 10/50\n",
      "375/375 [==============================] - 1s 2ms/step - loss: 0.2280 - accuracy: 0.9196 - val_loss: 0.3247 - val_accuracy: 0.8843\n",
      "Epoch 11/50\n",
      "375/375 [==============================] - 1s 3ms/step - loss: 0.2274 - accuracy: 0.9189 - val_loss: 0.3262 - val_accuracy: 0.8852\n",
      "Epoch 12/50\n",
      "375/375 [==============================] - 1s 3ms/step - loss: 0.2271 - accuracy: 0.9198 - val_loss: 0.3261 - val_accuracy: 0.8836\n",
      "Epoch 13/50\n",
      "375/375 [==============================] - 1s 3ms/step - loss: 0.2264 - accuracy: 0.9200 - val_loss: 0.3317 - val_accuracy: 0.8846\n"
     ]
    }
   ],
   "source": [
    "history = model.fit(train_images, train_oh_labels, validation_split=0.2, batch_size=128, epochs=50, verbose=1, callbacks=[early_stopping_cb])"
   ]
  },
  {
   "cell_type": "code",
   "execution_count": 61,
   "id": "a4f516f4",
   "metadata": {},
   "outputs": [
    {
     "name": "stdout",
     "output_type": "stream",
     "text": [
      "79/79 [==============================] - 0s 2ms/step - loss: 0.3488 - accuracy: 0.8746\n"
     ]
    },
    {
     "data": {
      "text/plain": [
       "[0.348783403635025, 0.8745999932289124]"
      ]
     },
     "execution_count": 61,
     "metadata": {},
     "output_type": "execute_result"
    }
   ],
   "source": [
    "model.evaluate(test_images, test_oh_labels, batch_size=128)"
   ]
  },
  {
   "cell_type": "markdown",
   "id": "75a7cde2",
   "metadata": {},
   "source": [
    "* Callback - ReduceLROnPlateau"
   ]
  },
  {
   "cell_type": "code",
   "execution_count": 63,
   "id": "dd54356e",
   "metadata": {},
   "outputs": [],
   "source": [
    "reducelr_cb = ReduceLROnPlateau(verbose=1)"
   ]
  },
  {
   "cell_type": "code",
   "execution_count": 64,
   "id": "f1347aea",
   "metadata": {
    "scrolled": false
   },
   "outputs": [
    {
     "name": "stdout",
     "output_type": "stream",
     "text": [
      "Epoch 1/50\n",
      "375/375 [==============================] - 1s 3ms/step - loss: 0.2316 - accuracy: 0.9172 - val_loss: 0.3300 - val_accuracy: 0.8817\n",
      "Epoch 2/50\n",
      "375/375 [==============================] - 1s 2ms/step - loss: 0.2309 - accuracy: 0.9180 - val_loss: 0.3281 - val_accuracy: 0.8819\n",
      "Epoch 3/50\n",
      "375/375 [==============================] - 1s 2ms/step - loss: 0.2302 - accuracy: 0.9174 - val_loss: 0.3241 - val_accuracy: 0.8832\n",
      "Epoch 4/50\n",
      "375/375 [==============================] - 1s 2ms/step - loss: 0.2302 - accuracy: 0.9187 - val_loss: 0.3251 - val_accuracy: 0.8845\n",
      "Epoch 5/50\n",
      "375/375 [==============================] - 1s 2ms/step - loss: 0.2292 - accuracy: 0.9189 - val_loss: 0.3333 - val_accuracy: 0.8849\n",
      "Epoch 6/50\n",
      "375/375 [==============================] - 1s 3ms/step - loss: 0.2290 - accuracy: 0.9192 - val_loss: 0.3242 - val_accuracy: 0.8856\n",
      "Epoch 7/50\n",
      "375/375 [==============================] - 1s 2ms/step - loss: 0.2287 - accuracy: 0.9184 - val_loss: 0.3249 - val_accuracy: 0.8849\n",
      "Epoch 8/50\n",
      "375/375 [==============================] - 1s 2ms/step - loss: 0.2286 - accuracy: 0.9187 - val_loss: 0.3296 - val_accuracy: 0.8839\n",
      "Epoch 9/50\n",
      "375/375 [==============================] - 1s 2ms/step - loss: 0.2262 - accuracy: 0.9208 - val_loss: 0.3279 - val_accuracy: 0.8846\n",
      "Epoch 10/50\n",
      "375/375 [==============================] - 1s 2ms/step - loss: 0.2261 - accuracy: 0.9203 - val_loss: 0.3246 - val_accuracy: 0.8848\n",
      "Epoch 11/50\n",
      "375/375 [==============================] - 1s 2ms/step - loss: 0.2256 - accuracy: 0.9195 - val_loss: 0.3263 - val_accuracy: 0.8852\n",
      "Epoch 12/50\n",
      "375/375 [==============================] - 1s 2ms/step - loss: 0.2253 - accuracy: 0.9204 - val_loss: 0.3261 - val_accuracy: 0.8837\n",
      "Epoch 13/50\n",
      "364/375 [============================>.] - ETA: 0s - loss: 0.2251 - accuracy: 0.9204\n",
      "Epoch 00013: ReduceLROnPlateau reducing learning rate to 0.010000000149011612.\n",
      "375/375 [==============================] - 1s 2ms/step - loss: 0.2246 - accuracy: 0.9204 - val_loss: 0.3318 - val_accuracy: 0.8850\n",
      "Epoch 14/50\n",
      "375/375 [==============================] - 1s 2ms/step - loss: 0.2182 - accuracy: 0.9230 - val_loss: 0.3224 - val_accuracy: 0.8851\n",
      "Epoch 15/50\n",
      "375/375 [==============================] - 1s 2ms/step - loss: 0.2174 - accuracy: 0.9237 - val_loss: 0.3226 - val_accuracy: 0.8852\n",
      "Epoch 16/50\n",
      "375/375 [==============================] - 1s 2ms/step - loss: 0.2172 - accuracy: 0.9238 - val_loss: 0.3222 - val_accuracy: 0.8862\n",
      "Epoch 17/50\n",
      "375/375 [==============================] - 1s 2ms/step - loss: 0.2172 - accuracy: 0.9242 - val_loss: 0.3224 - val_accuracy: 0.8856\n",
      "Epoch 18/50\n",
      "375/375 [==============================] - 1s 2ms/step - loss: 0.2171 - accuracy: 0.9235 - val_loss: 0.3222 - val_accuracy: 0.8856\n",
      "Epoch 19/50\n",
      "375/375 [==============================] - 1s 3ms/step - loss: 0.2170 - accuracy: 0.9235 - val_loss: 0.3221 - val_accuracy: 0.8856\n",
      "Epoch 20/50\n",
      "375/375 [==============================] - 1s 2ms/step - loss: 0.2170 - accuracy: 0.9241 - val_loss: 0.3223 - val_accuracy: 0.8861\n",
      "Epoch 21/50\n",
      "375/375 [==============================] - 1s 3ms/step - loss: 0.2169 - accuracy: 0.9243 - val_loss: 0.3221 - val_accuracy: 0.8860\n",
      "Epoch 22/50\n",
      "375/375 [==============================] - 1s 3ms/step - loss: 0.2168 - accuracy: 0.9241 - val_loss: 0.3226 - val_accuracy: 0.8854\n",
      "Epoch 23/50\n",
      "375/375 [==============================] - 1s 2ms/step - loss: 0.2168 - accuracy: 0.9243 - val_loss: 0.3223 - val_accuracy: 0.8857\n",
      "Epoch 24/50\n",
      "375/375 [==============================] - 1s 2ms/step - loss: 0.2166 - accuracy: 0.9243 - val_loss: 0.3233 - val_accuracy: 0.8836\n",
      "Epoch 25/50\n",
      "375/375 [==============================] - 1s 2ms/step - loss: 0.2165 - accuracy: 0.9243 - val_loss: 0.3226 - val_accuracy: 0.8861\n",
      "Epoch 26/50\n",
      "353/375 [===========================>..] - ETA: 0s - loss: 0.2169 - accuracy: 0.9238\n",
      "Epoch 00026: ReduceLROnPlateau reducing learning rate to 0.0009999999776482583.\n",
      "375/375 [==============================] - 1s 2ms/step - loss: 0.2165 - accuracy: 0.9241 - val_loss: 0.3229 - val_accuracy: 0.8851\n",
      "Epoch 27/50\n",
      "375/375 [==============================] - 1s 3ms/step - loss: 0.2160 - accuracy: 0.9243 - val_loss: 0.3225 - val_accuracy: 0.8850\n",
      "Epoch 28/50\n",
      "375/375 [==============================] - 1s 2ms/step - loss: 0.2159 - accuracy: 0.9243 - val_loss: 0.3224 - val_accuracy: 0.8854\n",
      "Epoch 29/50\n",
      "375/375 [==============================] - 1s 2ms/step - loss: 0.2158 - accuracy: 0.9243 - val_loss: 0.3224 - val_accuracy: 0.8855\n",
      "Epoch 30/50\n",
      "375/375 [==============================] - 1s 2ms/step - loss: 0.2158 - accuracy: 0.9244 - val_loss: 0.3224 - val_accuracy: 0.8852\n",
      "Epoch 31/50\n",
      "375/375 [==============================] - 1s 2ms/step - loss: 0.2158 - accuracy: 0.9244 - val_loss: 0.3223 - val_accuracy: 0.8853\n",
      "Epoch 32/50\n",
      "375/375 [==============================] - 1s 2ms/step - loss: 0.2158 - accuracy: 0.9242 - val_loss: 0.3223 - val_accuracy: 0.8854\n",
      "Epoch 33/50\n",
      "375/375 [==============================] - 1s 2ms/step - loss: 0.2158 - accuracy: 0.9245 - val_loss: 0.3223 - val_accuracy: 0.8856\n",
      "Epoch 34/50\n",
      "375/375 [==============================] - 1s 2ms/step - loss: 0.2158 - accuracy: 0.9244 - val_loss: 0.3223 - val_accuracy: 0.8854\n",
      "Epoch 35/50\n",
      "375/375 [==============================] - 1s 2ms/step - loss: 0.2158 - accuracy: 0.9245 - val_loss: 0.3224 - val_accuracy: 0.8853\n",
      "Epoch 36/50\n",
      "364/375 [============================>.] - ETA: 0s - loss: 0.2154 - accuracy: 0.9249\n",
      "Epoch 00036: ReduceLROnPlateau reducing learning rate to 9.999999310821295e-05.\n",
      "375/375 [==============================] - 1s 2ms/step - loss: 0.2158 - accuracy: 0.9245 - val_loss: 0.3223 - val_accuracy: 0.8854\n",
      "Epoch 37/50\n",
      "375/375 [==============================] - 1s 2ms/step - loss: 0.2157 - accuracy: 0.9243 - val_loss: 0.3223 - val_accuracy: 0.8855\n",
      "Epoch 38/50\n",
      "375/375 [==============================] - 1s 2ms/step - loss: 0.2157 - accuracy: 0.9244 - val_loss: 0.3223 - val_accuracy: 0.8855\n",
      "Epoch 39/50\n",
      "375/375 [==============================] - 1s 2ms/step - loss: 0.2157 - accuracy: 0.9244 - val_loss: 0.3223 - val_accuracy: 0.8855\n",
      "Epoch 40/50\n",
      "375/375 [==============================] - 1s 2ms/step - loss: 0.2157 - accuracy: 0.9244 - val_loss: 0.3223 - val_accuracy: 0.8854\n",
      "Epoch 41/50\n",
      "375/375 [==============================] - 1s 2ms/step - loss: 0.2157 - accuracy: 0.9244 - val_loss: 0.3223 - val_accuracy: 0.8854\n",
      "Epoch 42/50\n",
      "375/375 [==============================] - 1s 3ms/step - loss: 0.2157 - accuracy: 0.9244 - val_loss: 0.3223 - val_accuracy: 0.8856\n",
      "Epoch 43/50\n",
      "375/375 [==============================] - 1s 2ms/step - loss: 0.2157 - accuracy: 0.9243 - val_loss: 0.3223 - val_accuracy: 0.8856\n",
      "Epoch 44/50\n",
      "375/375 [==============================] - 1s 2ms/step - loss: 0.2157 - accuracy: 0.9244 - val_loss: 0.3223 - val_accuracy: 0.8856\n",
      "Epoch 45/50\n",
      "375/375 [==============================] - 1s 2ms/step - loss: 0.2157 - accuracy: 0.9244 - val_loss: 0.3223 - val_accuracy: 0.8856\n",
      "Epoch 46/50\n",
      "366/375 [============================>.] - ETA: 0s - loss: 0.2162 - accuracy: 0.9242\n",
      "Epoch 00046: ReduceLROnPlateau reducing learning rate to 9.999999019782991e-06.\n",
      "375/375 [==============================] - 1s 2ms/step - loss: 0.2157 - accuracy: 0.9244 - val_loss: 0.3223 - val_accuracy: 0.8856\n",
      "Epoch 47/50\n",
      "375/375 [==============================] - 1s 2ms/step - loss: 0.2157 - accuracy: 0.9244 - val_loss: 0.3223 - val_accuracy: 0.8856\n",
      "Epoch 48/50\n",
      "375/375 [==============================] - 1s 2ms/step - loss: 0.2157 - accuracy: 0.9244 - val_loss: 0.3223 - val_accuracy: 0.8856\n",
      "Epoch 49/50\n",
      "375/375 [==============================] - 1s 2ms/step - loss: 0.2157 - accuracy: 0.9244 - val_loss: 0.3223 - val_accuracy: 0.8856\n",
      "Epoch 50/50\n",
      "375/375 [==============================] - 1s 2ms/step - loss: 0.2157 - accuracy: 0.9244 - val_loss: 0.3223 - val_accuracy: 0.8856\n"
     ]
    }
   ],
   "source": [
    "history = model.fit(train_images, train_oh_labels, validation_split=0.2, batch_size=128, epochs=50, verbose=1, callbacks=[reducelr_cb])"
   ]
  },
  {
   "cell_type": "code",
   "execution_count": 65,
   "id": "be2fced4",
   "metadata": {},
   "outputs": [
    {
     "name": "stdout",
     "output_type": "stream",
     "text": [
      "79/79 [==============================] - 0s 2ms/step - loss: 0.3474 - accuracy: 0.8765\n"
     ]
    },
    {
     "data": {
      "text/plain": [
       "[0.34735679626464844, 0.8765000104904175]"
      ]
     },
     "execution_count": 65,
     "metadata": {},
     "output_type": "execute_result"
    }
   ],
   "source": [
    "model.evaluate(test_images, test_oh_labels, batch_size=128)"
   ]
  },
  {
   "cell_type": "markdown",
   "id": "360ed0d0",
   "metadata": {},
   "source": [
    "* Callback 조합"
   ]
  },
  {
   "cell_type": "code",
   "execution_count": 72,
   "id": "10a4efb5",
   "metadata": {
    "scrolled": false
   },
   "outputs": [
    {
     "name": "stdout",
     "output_type": "stream",
     "text": [
      "Epoch 1/50\n",
      "368/375 [============================>.] - ETA: 0s - loss: 0.2149 - accuracy: 0.9248\n",
      "Epoch 00001: val_loss improved from 0.33341 to 0.32232, saving model to my_keras_model.h5\n",
      "375/375 [==============================] - 1s 2ms/step - loss: 0.2157 - accuracy: 0.9244 - val_loss: 0.3223 - val_accuracy: 0.8856\n",
      "Epoch 2/50\n",
      "375/375 [==============================] - ETA: 0s - loss: 0.2157 - accuracy: 0.9244\n",
      "Epoch 00002: val_loss did not improve from 0.32232\n",
      "375/375 [==============================] - 1s 2ms/step - loss: 0.2157 - accuracy: 0.9244 - val_loss: 0.3223 - val_accuracy: 0.8856\n",
      "Epoch 3/50\n",
      "351/375 [===========================>..] - ETA: 0s - loss: 0.2155 - accuracy: 0.9241\n",
      "Epoch 00003: val_loss did not improve from 0.32232\n",
      "375/375 [==============================] - 1s 2ms/step - loss: 0.2157 - accuracy: 0.9244 - val_loss: 0.3223 - val_accuracy: 0.8856\n",
      "Epoch 4/50\n",
      "367/375 [============================>.] - ETA: 0s - loss: 0.2146 - accuracy: 0.9247\n",
      "Epoch 00004: val_loss did not improve from 0.32232\n",
      "375/375 [==============================] - 1s 2ms/step - loss: 0.2157 - accuracy: 0.9244 - val_loss: 0.3223 - val_accuracy: 0.8856\n",
      "Epoch 5/50\n",
      "366/375 [============================>.] - ETA: 0s - loss: 0.2152 - accuracy: 0.9245\n",
      "Epoch 00005: val_loss did not improve from 0.32232\n",
      "375/375 [==============================] - 1s 2ms/step - loss: 0.2157 - accuracy: 0.9244 - val_loss: 0.3223 - val_accuracy: 0.8856\n",
      "Epoch 6/50\n",
      "365/375 [============================>.] - ETA: 0s - loss: 0.2159 - accuracy: 0.9243\n",
      "Epoch 00006: val_loss did not improve from 0.32232\n",
      "375/375 [==============================] - 1s 2ms/step - loss: 0.2157 - accuracy: 0.9244 - val_loss: 0.3223 - val_accuracy: 0.8856\n",
      "Epoch 7/50\n",
      "361/375 [===========================>..] - ETA: 0s - loss: 0.2148 - accuracy: 0.9246\n",
      "Epoch 00007: val_loss did not improve from 0.32232\n",
      "375/375 [==============================] - 1s 2ms/step - loss: 0.2157 - accuracy: 0.9244 - val_loss: 0.3223 - val_accuracy: 0.8856\n",
      "Epoch 8/50\n",
      "358/375 [===========================>..] - ETA: 0s - loss: 0.2163 - accuracy: 0.9241\n",
      "Epoch 00008: val_loss did not improve from 0.32232\n",
      "375/375 [==============================] - 1s 2ms/step - loss: 0.2157 - accuracy: 0.9244 - val_loss: 0.3223 - val_accuracy: 0.8856\n",
      "Epoch 9/50\n",
      "350/375 [===========================>..] - ETA: 0s - loss: 0.2143 - accuracy: 0.9248\n",
      "Epoch 00009: val_loss did not improve from 0.32232\n",
      "375/375 [==============================] - 1s 2ms/step - loss: 0.2157 - accuracy: 0.9244 - val_loss: 0.3223 - val_accuracy: 0.8856\n",
      "Epoch 10/50\n",
      "356/375 [===========================>..] - ETA: 0s - loss: 0.2151 - accuracy: 0.9243\n",
      "Epoch 00010: val_loss did not improve from 0.32232\n",
      "375/375 [==============================] - 1s 2ms/step - loss: 0.2157 - accuracy: 0.9244 - val_loss: 0.3223 - val_accuracy: 0.8856\n",
      "Epoch 11/50\n",
      "353/375 [===========================>..] - ETA: 0s - loss: 0.2162 - accuracy: 0.9242\n",
      "Epoch 00011: val_loss did not improve from 0.32232\n",
      "\n",
      "Epoch 00011: ReduceLROnPlateau reducing learning rate to 9.999999092680235e-13.\n",
      "375/375 [==============================] - 1s 3ms/step - loss: 0.2157 - accuracy: 0.9244 - val_loss: 0.3223 - val_accuracy: 0.8856\n",
      "Epoch 12/50\n",
      "363/375 [============================>.] - ETA: 0s - loss: 0.2159 - accuracy: 0.9242\n",
      "Epoch 00012: val_loss did not improve from 0.32232\n",
      "375/375 [==============================] - 1s 3ms/step - loss: 0.2157 - accuracy: 0.9244 - val_loss: 0.3223 - val_accuracy: 0.8856\n",
      "Epoch 13/50\n",
      "365/375 [============================>.] - ETA: 0s - loss: 0.2162 - accuracy: 0.9244\n",
      "Epoch 00013: val_loss did not improve from 0.32232\n",
      "375/375 [==============================] - 1s 3ms/step - loss: 0.2157 - accuracy: 0.9244 - val_loss: 0.3223 - val_accuracy: 0.8856\n",
      "Epoch 14/50\n",
      "369/375 [============================>.] - ETA: 0s - loss: 0.2154 - accuracy: 0.9246\n",
      "Epoch 00014: val_loss did not improve from 0.32232\n",
      "375/375 [==============================] - 1s 2ms/step - loss: 0.2157 - accuracy: 0.9244 - val_loss: 0.3223 - val_accuracy: 0.8856\n",
      "Epoch 15/50\n",
      "356/375 [===========================>..] - ETA: 0s - loss: 0.2144 - accuracy: 0.9247\n",
      "Epoch 00015: val_loss did not improve from 0.32232\n",
      "375/375 [==============================] - 1s 2ms/step - loss: 0.2157 - accuracy: 0.9244 - val_loss: 0.3223 - val_accuracy: 0.8856\n",
      "Epoch 16/50\n",
      "358/375 [===========================>..] - ETA: 0s - loss: 0.2154 - accuracy: 0.9241\n",
      "Epoch 00016: val_loss did not improve from 0.32232\n",
      "375/375 [==============================] - 1s 2ms/step - loss: 0.2157 - accuracy: 0.9244 - val_loss: 0.3223 - val_accuracy: 0.8856\n",
      "Epoch 17/50\n",
      "353/375 [===========================>..] - ETA: 0s - loss: 0.2148 - accuracy: 0.9247\n",
      "Epoch 00017: val_loss did not improve from 0.32232\n",
      "375/375 [==============================] - 1s 2ms/step - loss: 0.2157 - accuracy: 0.9244 - val_loss: 0.3223 - val_accuracy: 0.8856\n",
      "Epoch 18/50\n",
      "374/375 [============================>.] - ETA: 0s - loss: 0.2158 - accuracy: 0.9243\n",
      "Epoch 00018: val_loss did not improve from 0.32232\n",
      "375/375 [==============================] - 1s 2ms/step - loss: 0.2157 - accuracy: 0.9244 - val_loss: 0.3223 - val_accuracy: 0.8856\n",
      "Epoch 19/50\n",
      "355/375 [===========================>..] - ETA: 0s - loss: 0.2159 - accuracy: 0.9245\n",
      "Epoch 00019: val_loss did not improve from 0.32232\n",
      "375/375 [==============================] - 1s 2ms/step - loss: 0.2157 - accuracy: 0.9244 - val_loss: 0.3223 - val_accuracy: 0.8856\n",
      "Epoch 20/50\n",
      "355/375 [===========================>..] - ETA: 0s - loss: 0.2153 - accuracy: 0.9247\n",
      "Epoch 00020: val_loss did not improve from 0.32232\n",
      "375/375 [==============================] - 1s 2ms/step - loss: 0.2157 - accuracy: 0.9244 - val_loss: 0.3223 - val_accuracy: 0.8856\n",
      "Epoch 21/50\n",
      "370/375 [============================>.] - ETA: 0s - loss: 0.2156 - accuracy: 0.9245\n",
      "Epoch 00021: val_loss did not improve from 0.32232\n",
      "\n",
      "Epoch 00021: ReduceLROnPlateau reducing learning rate to 9.9999988758398e-14.\n",
      "375/375 [==============================] - 1s 2ms/step - loss: 0.2157 - accuracy: 0.9244 - val_loss: 0.3223 - val_accuracy: 0.8856\n"
     ]
    }
   ],
   "source": [
    "history = model.fit(train_images, train_oh_labels, validation_split=0.2, batch_size=128, epochs=50, verbose=1, callbacks=[checkpoint_cb, reducelr_cb, early_stopping_cb])"
   ]
  },
  {
   "cell_type": "code",
   "execution_count": 73,
   "id": "382ff953",
   "metadata": {},
   "outputs": [
    {
     "name": "stdout",
     "output_type": "stream",
     "text": [
      "79/79 [==============================] - 0s 2ms/step - loss: 0.3474 - accuracy: 0.8766\n"
     ]
    },
    {
     "data": {
      "text/plain": [
       "[0.34735655784606934, 0.8766000270843506]"
      ]
     },
     "execution_count": 73,
     "metadata": {},
     "output_type": "execute_result"
    }
   ],
   "source": [
    "model.evaluate(test_images, test_oh_labels, batch_size=128)"
   ]
  },
  {
   "cell_type": "markdown",
   "id": "b4d98d24",
   "metadata": {},
   "source": [
    "### 하이퍼 파라미터 튜닝"
   ]
  },
  {
   "cell_type": "code",
   "execution_count": 79,
   "id": "eb8a0ded",
   "metadata": {},
   "outputs": [],
   "source": [
    "def build_model(n_neurons=50):\n",
    "    input_tensor = Input(shape=(28, 28))\n",
    "    x = Flatten()(input_tensor) \n",
    "    x = Dense(n_neurons, activation='sigmoid')(x)\n",
    "    output = Dense(10, activation='softmax')(x)\n",
    "\n",
    "    model = Model(inputs=input_tensor, outputs=output)\n",
    "    model.compile(optimizer=SGD(0.1), loss='categorical_crossentropy', metrics=['accuracy'])\n",
    "    return model"
   ]
  },
  {
   "cell_type": "code",
   "execution_count": 80,
   "id": "43aaffb2",
   "metadata": {},
   "outputs": [],
   "source": [
    "from sklearn.model_selection import GridSearchCV, RandomizedSearchCV\n",
    "from tensorflow.keras.wrappers.scikit_learn import KerasClassifier  "
   ]
  },
  {
   "cell_type": "code",
   "execution_count": 81,
   "id": "22641891",
   "metadata": {},
   "outputs": [],
   "source": [
    "keras_clf = KerasClassifier(build_model)"
   ]
  },
  {
   "cell_type": "code",
   "execution_count": 82,
   "id": "d01ff8d7",
   "metadata": {
    "scrolled": false
   },
   "outputs": [
    {
     "name": "stdout",
     "output_type": "stream",
     "text": [
      "Epoch 1/10\n",
      "250/250 [==============================] - 1s 3ms/step - loss: 1.2658 - accuracy: 0.6570 - val_loss: 0.8557 - val_accuracy: 0.7427\n",
      "Epoch 2/10\n",
      "250/250 [==============================] - 1s 2ms/step - loss: 0.7579 - accuracy: 0.7613 - val_loss: 0.6814 - val_accuracy: 0.7739\n",
      "Epoch 3/10\n",
      "250/250 [==============================] - 1s 2ms/step - loss: 0.6416 - accuracy: 0.7883 - val_loss: 0.6076 - val_accuracy: 0.7944\n",
      "Epoch 4/10\n",
      "250/250 [==============================] - 1s 2ms/step - loss: 0.5814 - accuracy: 0.8042 - val_loss: 0.5696 - val_accuracy: 0.8043\n",
      "Epoch 5/10\n",
      "250/250 [==============================] - 1s 3ms/step - loss: 0.5427 - accuracy: 0.8172 - val_loss: 0.5350 - val_accuracy: 0.8119\n",
      "Epoch 6/10\n",
      "250/250 [==============================] - 1s 2ms/step - loss: 0.5160 - accuracy: 0.8239 - val_loss: 0.5150 - val_accuracy: 0.8220\n",
      "Epoch 7/10\n",
      "250/250 [==============================] - 1s 2ms/step - loss: 0.4961 - accuracy: 0.8294 - val_loss: 0.4970 - val_accuracy: 0.8232\n",
      "Epoch 8/10\n",
      "250/250 [==============================] - 1s 2ms/step - loss: 0.4803 - accuracy: 0.8342 - val_loss: 0.4869 - val_accuracy: 0.8259\n",
      "Epoch 9/10\n",
      "250/250 [==============================] - 1s 2ms/step - loss: 0.4682 - accuracy: 0.8388 - val_loss: 0.4734 - val_accuracy: 0.8292\n",
      "Epoch 10/10\n",
      "250/250 [==============================] - 1s 2ms/step - loss: 0.4574 - accuracy: 0.8431 - val_loss: 0.4753 - val_accuracy: 0.8289\n",
      "625/625 [==============================] - 1s 2ms/step - loss: 0.4717 - accuracy: 0.8346\n",
      "Epoch 1/10\n",
      "250/250 [==============================] - 1s 4ms/step - loss: 1.2368 - accuracy: 0.6626 - val_loss: 0.8489 - val_accuracy: 0.7475\n",
      "Epoch 2/10\n",
      "250/250 [==============================] - 1s 3ms/step - loss: 0.7504 - accuracy: 0.7575 - val_loss: 0.6782 - val_accuracy: 0.7644\n",
      "Epoch 3/10\n",
      "250/250 [==============================] - 1s 2ms/step - loss: 0.6374 - accuracy: 0.7842 - val_loss: 0.6054 - val_accuracy: 0.7895\n",
      "Epoch 4/10\n",
      "250/250 [==============================] - 1s 2ms/step - loss: 0.5792 - accuracy: 0.8012 - val_loss: 0.5626 - val_accuracy: 0.8059\n",
      "Epoch 5/10\n",
      "250/250 [==============================] - 1s 2ms/step - loss: 0.5422 - accuracy: 0.8143 - val_loss: 0.5364 - val_accuracy: 0.8129\n",
      "Epoch 6/10\n",
      "250/250 [==============================] - 1s 3ms/step - loss: 0.5163 - accuracy: 0.8225 - val_loss: 0.5193 - val_accuracy: 0.8155\n",
      "Epoch 7/10\n",
      "250/250 [==============================] - 1s 3ms/step - loss: 0.4978 - accuracy: 0.8262 - val_loss: 0.5012 - val_accuracy: 0.8234\n",
      "Epoch 8/10\n",
      "250/250 [==============================] - 1s 2ms/step - loss: 0.4828 - accuracy: 0.8314 - val_loss: 0.4899 - val_accuracy: 0.8250\n",
      "Epoch 9/10\n",
      "250/250 [==============================] - 1s 2ms/step - loss: 0.4712 - accuracy: 0.8355 - val_loss: 0.4813 - val_accuracy: 0.8304\n",
      "Epoch 10/10\n",
      "250/250 [==============================] - 1s 2ms/step - loss: 0.4611 - accuracy: 0.8384 - val_loss: 0.4719 - val_accuracy: 0.8270\n",
      "625/625 [==============================] - 1s 2ms/step - loss: 0.4660 - accuracy: 0.8397\n",
      "Epoch 1/10\n",
      "250/250 [==============================] - 1s 4ms/step - loss: 1.2627 - accuracy: 0.6682 - val_loss: 0.8519 - val_accuracy: 0.7517\n",
      "Epoch 2/10\n",
      "250/250 [==============================] - 1s 3ms/step - loss: 0.7526 - accuracy: 0.7576 - val_loss: 0.6799 - val_accuracy: 0.7724\n",
      "Epoch 3/10\n",
      "250/250 [==============================] - 1s 3ms/step - loss: 0.6386 - accuracy: 0.7852 - val_loss: 0.6046 - val_accuracy: 0.7986\n",
      "Epoch 4/10\n",
      "250/250 [==============================] - 1s 3ms/step - loss: 0.5794 - accuracy: 0.8033 - val_loss: 0.5612 - val_accuracy: 0.8138\n",
      "Epoch 5/10\n",
      "250/250 [==============================] - 1s 3ms/step - loss: 0.5419 - accuracy: 0.8145 - val_loss: 0.5307 - val_accuracy: 0.8202\n",
      "Epoch 6/10\n",
      "250/250 [==============================] - 1s 2ms/step - loss: 0.5159 - accuracy: 0.8221 - val_loss: 0.5156 - val_accuracy: 0.8242\n",
      "Epoch 7/10\n",
      "250/250 [==============================] - 1s 2ms/step - loss: 0.4958 - accuracy: 0.8278 - val_loss: 0.4937 - val_accuracy: 0.8335\n",
      "Epoch 8/10\n",
      "250/250 [==============================] - 1s 2ms/step - loss: 0.4801 - accuracy: 0.8333 - val_loss: 0.4843 - val_accuracy: 0.8346\n",
      "Epoch 9/10\n",
      "250/250 [==============================] - 1s 2ms/step - loss: 0.4684 - accuracy: 0.8361 - val_loss: 0.4714 - val_accuracy: 0.8426\n",
      "Epoch 10/10\n",
      "250/250 [==============================] - 1s 2ms/step - loss: 0.4575 - accuracy: 0.8401 - val_loss: 0.4651 - val_accuracy: 0.8416\n",
      "625/625 [==============================] - 1s 2ms/step - loss: 0.4634 - accuracy: 0.8356\n",
      "Epoch 1/10\n",
      "250/250 [==============================] - 1s 4ms/step - loss: 1.1680 - accuracy: 0.6783 - val_loss: 0.7918 - val_accuracy: 0.7455\n",
      "Epoch 2/10\n",
      "250/250 [==============================] - 1s 3ms/step - loss: 0.7107 - accuracy: 0.7659 - val_loss: 0.6492 - val_accuracy: 0.7785\n",
      "Epoch 3/10\n",
      "250/250 [==============================] - 1s 3ms/step - loss: 0.6153 - accuracy: 0.7908 - val_loss: 0.5892 - val_accuracy: 0.7949\n",
      "Epoch 4/10\n",
      "250/250 [==============================] - 1s 3ms/step - loss: 0.5649 - accuracy: 0.8065 - val_loss: 0.5593 - val_accuracy: 0.8024\n",
      "Epoch 5/10\n",
      "250/250 [==============================] - 1s 3ms/step - loss: 0.5318 - accuracy: 0.8155 - val_loss: 0.5272 - val_accuracy: 0.8115\n",
      "Epoch 6/10\n",
      "250/250 [==============================] - 1s 3ms/step - loss: 0.5088 - accuracy: 0.8233 - val_loss: 0.5103 - val_accuracy: 0.8198\n",
      "Epoch 7/10\n",
      "250/250 [==============================] - 1s 3ms/step - loss: 0.4914 - accuracy: 0.8303 - val_loss: 0.4932 - val_accuracy: 0.8235\n",
      "Epoch 8/10\n",
      "250/250 [==============================] - 1s 3ms/step - loss: 0.4774 - accuracy: 0.8351 - val_loss: 0.4852 - val_accuracy: 0.8255\n",
      "Epoch 9/10\n",
      "250/250 [==============================] - 1s 3ms/step - loss: 0.4667 - accuracy: 0.8382 - val_loss: 0.4723 - val_accuracy: 0.8303\n",
      "Epoch 10/10\n",
      "250/250 [==============================] - 1s 3ms/step - loss: 0.4569 - accuracy: 0.8424 - val_loss: 0.4768 - val_accuracy: 0.8291\n",
      "625/625 [==============================] - 1s 2ms/step - loss: 0.4718 - accuracy: 0.8321\n",
      "Epoch 1/10\n",
      "250/250 [==============================] - 1s 3ms/step - loss: 1.1842 - accuracy: 0.6705 - val_loss: 0.7970 - val_accuracy: 0.7524\n",
      "Epoch 2/10\n",
      "250/250 [==============================] - 1s 3ms/step - loss: 0.7122 - accuracy: 0.7624 - val_loss: 0.6540 - val_accuracy: 0.7651\n",
      "Epoch 3/10\n",
      "250/250 [==============================] - 1s 4ms/step - loss: 0.6157 - accuracy: 0.7878 - val_loss: 0.5891 - val_accuracy: 0.7920\n",
      "Epoch 4/10\n",
      "250/250 [==============================] - 1s 3ms/step - loss: 0.5644 - accuracy: 0.8049 - val_loss: 0.5506 - val_accuracy: 0.8089\n",
      "Epoch 5/10\n",
      "250/250 [==============================] - 1s 3ms/step - loss: 0.5316 - accuracy: 0.8152 - val_loss: 0.5308 - val_accuracy: 0.8114\n",
      "Epoch 6/10\n",
      "250/250 [==============================] - 1s 3ms/step - loss: 0.5084 - accuracy: 0.8217 - val_loss: 0.5164 - val_accuracy: 0.8126\n",
      "Epoch 7/10\n",
      "250/250 [==============================] - 1s 3ms/step - loss: 0.4918 - accuracy: 0.8263 - val_loss: 0.4972 - val_accuracy: 0.8240\n",
      "Epoch 8/10\n",
      "250/250 [==============================] - 1s 3ms/step - loss: 0.4783 - accuracy: 0.8319 - val_loss: 0.4865 - val_accuracy: 0.8255\n",
      "Epoch 9/10\n",
      "250/250 [==============================] - 1s 3ms/step - loss: 0.4679 - accuracy: 0.8334 - val_loss: 0.4795 - val_accuracy: 0.8288\n",
      "Epoch 10/10\n",
      "250/250 [==============================] - 1s 3ms/step - loss: 0.4588 - accuracy: 0.8381 - val_loss: 0.4703 - val_accuracy: 0.8279\n",
      "625/625 [==============================] - 1s 2ms/step - loss: 0.4640 - accuracy: 0.8407\n",
      "Epoch 1/10\n",
      "250/250 [==============================] - 1s 4ms/step - loss: 1.1852 - accuracy: 0.6685 - val_loss: 0.8032 - val_accuracy: 0.7570\n",
      "Epoch 2/10\n",
      "250/250 [==============================] - 1s 3ms/step - loss: 0.7160 - accuracy: 0.7635 - val_loss: 0.6539 - val_accuracy: 0.7735\n",
      "Epoch 3/10\n",
      "250/250 [==============================] - 1s 3ms/step - loss: 0.6162 - accuracy: 0.7892 - val_loss: 0.5877 - val_accuracy: 0.8026\n",
      "Epoch 4/10\n",
      "250/250 [==============================] - 1s 3ms/step - loss: 0.5638 - accuracy: 0.8062 - val_loss: 0.5477 - val_accuracy: 0.8140\n",
      "Epoch 5/10\n"
     ]
    },
    {
     "name": "stdout",
     "output_type": "stream",
     "text": [
      "250/250 [==============================] - 1s 3ms/step - loss: 0.5307 - accuracy: 0.8163 - val_loss: 0.5232 - val_accuracy: 0.8217\n",
      "Epoch 6/10\n",
      "250/250 [==============================] - 1s 3ms/step - loss: 0.5078 - accuracy: 0.8238 - val_loss: 0.5097 - val_accuracy: 0.8256\n",
      "Epoch 7/10\n",
      "250/250 [==============================] - 1s 3ms/step - loss: 0.4898 - accuracy: 0.8287 - val_loss: 0.4900 - val_accuracy: 0.8361\n",
      "Epoch 8/10\n",
      "250/250 [==============================] - 1s 3ms/step - loss: 0.4760 - accuracy: 0.8339 - val_loss: 0.4826 - val_accuracy: 0.8359\n",
      "Epoch 9/10\n",
      "250/250 [==============================] - 1s 3ms/step - loss: 0.4658 - accuracy: 0.8357 - val_loss: 0.4718 - val_accuracy: 0.8420\n",
      "Epoch 10/10\n",
      "250/250 [==============================] - 1s 3ms/step - loss: 0.4558 - accuracy: 0.8391 - val_loss: 0.4644 - val_accuracy: 0.8386\n",
      "625/625 [==============================] - 1s 2ms/step - loss: 0.4606 - accuracy: 0.8367\n",
      "Epoch 1/10\n",
      "375/375 [==============================] - 1s 3ms/step - loss: 1.1185 - accuracy: 0.6924 - val_loss: 0.7431 - val_accuracy: 0.7614\n",
      "Epoch 2/10\n",
      "375/375 [==============================] - 1s 3ms/step - loss: 0.6678 - accuracy: 0.7781 - val_loss: 0.6055 - val_accuracy: 0.7944\n",
      "Epoch 3/10\n",
      "375/375 [==============================] - 1s 2ms/step - loss: 0.5734 - accuracy: 0.8055 - val_loss: 0.5439 - val_accuracy: 0.8136\n",
      "Epoch 4/10\n",
      "375/375 [==============================] - 1s 2ms/step - loss: 0.5257 - accuracy: 0.8198 - val_loss: 0.5090 - val_accuracy: 0.8209\n",
      "Epoch 5/10\n",
      "375/375 [==============================] - 1s 3ms/step - loss: 0.4959 - accuracy: 0.8277 - val_loss: 0.4904 - val_accuracy: 0.8272\n",
      "Epoch 6/10\n",
      "375/375 [==============================] - 1s 3ms/step - loss: 0.4756 - accuracy: 0.8337 - val_loss: 0.4680 - val_accuracy: 0.8341\n",
      "Epoch 7/10\n",
      "375/375 [==============================] - 1s 2ms/step - loss: 0.4595 - accuracy: 0.8386 - val_loss: 0.4571 - val_accuracy: 0.8360\n",
      "Epoch 8/10\n",
      "375/375 [==============================] - 1s 2ms/step - loss: 0.4472 - accuracy: 0.8435 - val_loss: 0.4475 - val_accuracy: 0.8418\n",
      "Epoch 9/10\n",
      "375/375 [==============================] - 1s 2ms/step - loss: 0.4366 - accuracy: 0.8471 - val_loss: 0.4382 - val_accuracy: 0.8425\n",
      "Epoch 10/10\n",
      "375/375 [==============================] - 1s 2ms/step - loss: 0.4282 - accuracy: 0.8500 - val_loss: 0.4335 - val_accuracy: 0.8457\n"
     ]
    },
    {
     "data": {
      "text/plain": [
       "GridSearchCV(cv=3,\n",
       "             estimator=<tensorflow.python.keras.wrappers.scikit_learn.KerasClassifier object at 0x0000018F14B40760>,\n",
       "             param_grid={'n_neurons': [50, 100]})"
      ]
     },
     "execution_count": 82,
     "metadata": {},
     "output_type": "execute_result"
    }
   ],
   "source": [
    "param_grid = {\n",
    "    \"n_neurons\" : [50, 100]\n",
    "}\n",
    "\n",
    "grid_search = GridSearchCV(keras_clf, param_grid, cv=3)\n",
    "grid_search.fit(train_images, train_oh_labels, validation_split=0.2, batch_size=128, epochs=10, verbose=1)"
   ]
  },
  {
   "cell_type": "code",
   "execution_count": 84,
   "id": "cf8e972d",
   "metadata": {},
   "outputs": [
    {
     "data": {
      "text/plain": [
       "0.8366499940554301"
      ]
     },
     "execution_count": 84,
     "metadata": {},
     "output_type": "execute_result"
    }
   ],
   "source": [
    "grid_search.best_score_"
   ]
  },
  {
   "cell_type": "code",
   "execution_count": 85,
   "id": "a3e97607",
   "metadata": {},
   "outputs": [
    {
     "data": {
      "text/plain": [
       "{'n_neurons': 50}"
      ]
     },
     "execution_count": 85,
     "metadata": {},
     "output_type": "execute_result"
    }
   ],
   "source": [
    "grid_search.best_params_"
   ]
  },
  {
   "cell_type": "code",
   "execution_count": null,
   "id": "2c098d3c",
   "metadata": {},
   "outputs": [],
   "source": []
  }
 ],
 "metadata": {
  "kernelspec": {
   "display_name": "Python 3",
   "language": "python",
   "name": "python3"
  },
  "language_info": {
   "codemirror_mode": {
    "name": "ipython",
    "version": 3
   },
   "file_extension": ".py",
   "mimetype": "text/x-python",
   "name": "python",
   "nbconvert_exporter": "python",
   "pygments_lexer": "ipython3",
   "version": "3.8.8"
  }
 },
 "nbformat": 4,
 "nbformat_minor": 5
}
